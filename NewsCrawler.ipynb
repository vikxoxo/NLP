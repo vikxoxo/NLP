{
  "nbformat": 4,
  "nbformat_minor": 0,
  "metadata": {
    "colab": {
      "name": "NewsCrawler.ipynb",
      "provenance": [],
      "collapsed_sections": [],
      "toc_visible": true,
      "include_colab_link": true
    },
    "kernelspec": {
      "name": "python3",
      "display_name": "Python 3"
    }
  },
  "cells": [
    {
      "cell_type": "markdown",
      "metadata": {
        "id": "view-in-github",
        "colab_type": "text"
      },
      "source": [
        "<a href=\"https://colab.research.google.com/github/vikxoxo/NLP/blob/master/NewsCrawler.ipynb\" target=\"_parent\"><img src=\"https://colab.research.google.com/assets/colab-badge.svg\" alt=\"Open In Colab\"/></a>"
      ]
    },
    {
      "cell_type": "markdown",
      "metadata": {
        "id": "1uOQOqHCz17r",
        "colab_type": "text"
      },
      "source": [
        "# Extracting data from webpage\n",
        "Webpage Crawling using BeautifulSoap : Example livemint International section"
      ]
    },
    {
      "cell_type": "code",
      "metadata": {
        "id": "OdaKIN_-st59",
        "colab_type": "code",
        "colab": {}
      },
      "source": [
        "#!pip install scrapy"
      ],
      "execution_count": null,
      "outputs": []
    },
    {
      "cell_type": "code",
      "metadata": {
        "id": "yd2rIvAV7Ekd",
        "colab_type": "code",
        "colab": {}
      },
      "source": [
        "import requests\n",
        "#from bs4 import BeautifulSoup\n",
        "import numpy as np\n",
        "import pandas as pd\n",
        "import time\n",
        "import re"
      ],
      "execution_count": null,
      "outputs": []
    },
    {
      "cell_type": "code",
      "metadata": {
        "id": "1a1WpbP2RL9h",
        "colab_type": "code",
        "colab": {
          "base_uri": "https://localhost:8080/",
          "height": 34
        },
        "outputId": "b52795d6-73cc-40f3-d732-8ec50a190590"
      },
      "source": [
        "! pip install beautifulsoup4"
      ],
      "execution_count": null,
      "outputs": [
        {
          "output_type": "stream",
          "text": [
            "Requirement already satisfied: beautifulsoup4 in /usr/local/lib/python3.6/dist-packages (4.6.3)\n"
          ],
          "name": "stdout"
        }
      ]
    },
    {
      "cell_type": "code",
      "metadata": {
        "id": "IDHGGeg0bBVX",
        "colab_type": "code",
        "colab": {
          "base_uri": "https://localhost:8080/",
          "height": 101
        },
        "outputId": "54d657ec-13f8-4499-9bad-830345086406"
      },
      "source": [
        "! pip install requests"
      ],
      "execution_count": null,
      "outputs": [
        {
          "output_type": "stream",
          "text": [
            "Requirement already satisfied: requests in /usr/local/lib/python3.6/dist-packages (2.23.0)\n",
            "Requirement already satisfied: urllib3!=1.25.0,!=1.25.1,<1.26,>=1.21.1 in /usr/local/lib/python3.6/dist-packages (from requests) (1.24.3)\n",
            "Requirement already satisfied: chardet<4,>=3.0.2 in /usr/local/lib/python3.6/dist-packages (from requests) (3.0.4)\n",
            "Requirement already satisfied: idna<3,>=2.5 in /usr/local/lib/python3.6/dist-packages (from requests) (2.10)\n",
            "Requirement already satisfied: certifi>=2017.4.17 in /usr/local/lib/python3.6/dist-packages (from requests) (2020.6.20)\n"
          ],
          "name": "stdout"
        }
      ]
    },
    {
      "cell_type": "code",
      "metadata": {
        "id": "PbBLsGwRbTBg",
        "colab_type": "code",
        "colab": {}
      },
      "source": [
        "# importing the necessary packages\n",
        "import requests\n",
        "from bs4 import BeautifulSoup"
      ],
      "execution_count": null,
      "outputs": []
    },
    {
      "cell_type": "code",
      "metadata": {
        "id": "bry79jOMhqrG",
        "colab_type": "code",
        "colab": {}
      },
      "source": [
        "url = \"https://www.livemint.com/topic/international\"\n",
        "url_base = \"https://www.livemint.com\""
      ],
      "execution_count": null,
      "outputs": []
    },
    {
      "cell_type": "code",
      "metadata": {
        "id": "SN5b26SghfaW",
        "colab_type": "code",
        "colab": {}
      },
      "source": [
        "r1 = requests.get(url)\n",
        "coverpage = r1.content"
      ],
      "execution_count": null,
      "outputs": []
    },
    {
      "cell_type": "code",
      "metadata": {
        "id": "NNL8lhXfkRNO",
        "colab_type": "code",
        "colab": {}
      },
      "source": [
        "soup1 = BeautifulSoup(coverpage, 'html5lib')"
      ],
      "execution_count": null,
      "outputs": []
    },
    {
      "cell_type": "code",
      "metadata": {
        "id": "0POnTFfpkd7l",
        "colab_type": "code",
        "colab": {}
      },
      "source": [
        "coverpage_news = soup1.find_all('h2', class_=\"headline\")"
      ],
      "execution_count": null,
      "outputs": []
    },
    {
      "cell_type": "code",
      "metadata": {
        "id": "WR_wWtbdnYwB",
        "colab_type": "code",
        "colab": {
          "base_uri": "https://localhost:8080/",
          "height": 54
        },
        "outputId": "48292aca-958e-4260-ad38-927b6f89feae"
      },
      "source": [
        "coverpage_news[0]"
      ],
      "execution_count": null,
      "outputs": [
        {
          "output_type": "execute_result",
          "data": {
            "text/plain": [
              "<h2 class=\"headline\" id=\"listheadline_11594901184854\"><a data-vars-storyid=\"11594901184854\" href=\"/news/world/global-debt-hits-record-high-of-331-of-gdp-in-q1-iif-11594901184854.html\">Global debt hits record high of 331% of GDP in Q1 -IIF</a></h2>"
            ]
          },
          "metadata": {
            "tags": []
          },
          "execution_count": 10
        }
      ]
    },
    {
      "cell_type": "markdown",
      "metadata": {
        "id": "2-4QEsIyopF3",
        "colab_type": "text"
      },
      "source": [
        "Headlines "
      ]
    },
    {
      "cell_type": "code",
      "metadata": {
        "id": "wEEkJ3zBncgu",
        "colab_type": "code",
        "colab": {
          "base_uri": "https://localhost:8080/",
          "height": 35
        },
        "outputId": "6a73032c-aea2-4a57-f76e-072fc2b32f47"
      },
      "source": [
        "coverpage_news[0].get_text()\n"
      ],
      "execution_count": null,
      "outputs": [
        {
          "output_type": "execute_result",
          "data": {
            "application/vnd.google.colaboratory.intrinsic+json": {
              "type": "string"
            },
            "text/plain": [
              "'Global debt hits record high of 331% of GDP in Q1 -IIF'"
            ]
          },
          "metadata": {
            "tags": []
          },
          "execution_count": 11
        }
      ]
    },
    {
      "cell_type": "markdown",
      "metadata": {
        "id": "kuXAFEfIvevN",
        "colab_type": "text"
      },
      "source": [
        "Incomplete URL to Headline News in plain text"
      ]
    },
    {
      "cell_type": "code",
      "metadata": {
        "id": "ejBVuSxjvU94",
        "colab_type": "code",
        "colab": {
          "base_uri": "https://localhost:8080/",
          "height": 35
        },
        "outputId": "6baf2fa4-b4f1-428a-a2f1-8f8140c37251"
      },
      "source": [
        " coverpage_news[0].find('a')['href']"
      ],
      "execution_count": null,
      "outputs": [
        {
          "output_type": "execute_result",
          "data": {
            "application/vnd.google.colaboratory.intrinsic+json": {
              "type": "string"
            },
            "text/plain": [
              "'/news/world/global-debt-hits-record-high-of-331-of-gdp-in-q1-iif-11594901184854.html'"
            ]
          },
          "metadata": {
            "tags": []
          },
          "execution_count": 12
        }
      ]
    },
    {
      "cell_type": "markdown",
      "metadata": {
        "id": "sBwwlXe719kS",
        "colab_type": "text"
      },
      "source": [
        "Completing URL"
      ]
    },
    {
      "cell_type": "code",
      "metadata": {
        "id": "yvX58HA21xX1",
        "colab_type": "code",
        "colab": {}
      },
      "source": [
        "# Function to build complete url\n",
        "# Returns a string\n",
        "def complete_url(half_url):\n",
        "    \"\"\"\n",
        "    This takes a second half of the url as input\n",
        "    and then it adds the first part of the url.\n",
        "    Finally it returns a complete url.\n",
        "    \"\"\"\n",
        "  \n",
        "    full_url = url_base + half_url\n",
        "    return full_url"
      ],
      "execution_count": null,
      "outputs": []
    },
    {
      "cell_type": "code",
      "metadata": {
        "id": "IXRshFi42BYX",
        "colab_type": "code",
        "colab": {
          "base_uri": "https://localhost:8080/",
          "height": 35
        },
        "outputId": "9818b566-86ef-4b24-e176-db2af779c1b7"
      },
      "source": [
        "News1_halfURL = coverpage_news[0].find('a')['href']\n",
        "complete_url(News1_halfURL)"
      ],
      "execution_count": null,
      "outputs": [
        {
          "output_type": "execute_result",
          "data": {
            "application/vnd.google.colaboratory.intrinsic+json": {
              "type": "string"
            },
            "text/plain": [
              "'https://www.livemint.com/news/world/global-debt-hits-record-high-of-331-of-gdp-in-q1-iif-11594901184854.html'"
            ]
          },
          "metadata": {
            "tags": []
          },
          "execution_count": 14
        }
      ]
    },
    {
      "cell_type": "code",
      "metadata": {
        "id": "-8rnNo6o4KRp",
        "colab_type": "code",
        "colab": {}
      },
      "source": [
        "News1_fullURL = complete_url(News1_halfURL)\n"
      ],
      "execution_count": null,
      "outputs": []
    },
    {
      "cell_type": "markdown",
      "metadata": {
        "id": "CHqRL6X73_Zb",
        "colab_type": "text"
      },
      "source": [
        "Reading Whole Content In Article"
      ]
    },
    {
      "cell_type": "code",
      "metadata": {
        "id": "LwoFxIsv1MLb",
        "colab_type": "code",
        "colab": {}
      },
      "source": [
        "# Reading the content (it is divided in paragraphs)\n",
        "article = requests.get(News1_fullURL)\n",
        "article_content = article.content\n",
        "soup_article = BeautifulSoup(article_content, 'html5lib')\n",
        "body = soup_article.find_all('div', class_='mainArea')\n",
        "x = body[0].find_all('p')\n",
        "# x = body.find_all('p')\n",
        "\n",
        "# Unifying the paragraphs\n",
        "list_paragraphs = []\n",
        "for p in np.arange(0, len(x)):\n",
        "  paragraph = x[p].get_text()\n",
        "  list_paragraphs.append(paragraph)\n",
        "  final_article = \" \".join(list_paragraphs)\n",
        "    \n",
        "\n"
      ],
      "execution_count": null,
      "outputs": []
    },
    {
      "cell_type": "markdown",
      "metadata": {
        "id": "vuAsMCM38IFd",
        "colab_type": "text"
      },
      "source": [
        "Showing final article as a paragrapgh from News 1 from International Section"
      ]
    },
    {
      "cell_type": "code",
      "metadata": {
        "id": "pCa5PjsW7Ycu",
        "colab_type": "code",
        "colab": {
          "base_uri": "https://localhost:8080/",
          "height": 137
        },
        "outputId": "e0d0a7a8-a44f-40bd-d98e-3a68b5bc12ad"
      },
      "source": [
        "final_article"
      ],
      "execution_count": null,
      "outputs": [
        {
          "output_type": "execute_result",
          "data": {
            "application/vnd.google.colaboratory.intrinsic+json": {
              "type": "string"
            },
            "text/plain": [
              "'\\nGlobal debt surged to a record $258 trillion in the first quarter of 2020 as economies around the world shut down to contain the coronavirus pandemic, and debt levels are continuing to rise, the Institute for International Finance said on Thursday in a report. The IIF, which represents global banks and financial institutions, said the first-quarter debt-to-GDP ratio jumped by over 10 percentage points, the largest quarterly surge on record, to reach a record 331%. While the rise in debt levels was well below average quarterly gains seen from 2015 to 2019, the pace of global debt build-up by governments, companies, financial institutions and households had accelerated since March, it said. Overall gross debt issuance hit an \"eye-watering\" record of $12.5 trillion in the second quarter, compared with a quarterly average of $5.5 trillion in 2019, the IIF said. It noted that 60% of those issues came from governments. \"While increasing debt levels raise concerns about debt sustainability, over 92% of government debt is investment-grade,\" the report said. Debt in mature markets topped 392% of GDP, up from 380% in 2019, with the rise in debt ratios outside the financial sector most pronounced in Canada, France, Norway and the United States. US debt made up half of the total $185 trillion of debt in mature markets. Debt-to-GDP ratios jumped to 230% in emerging markets in the first quarter from 220%, but the US dollar value of debt fell by $700 million to $72.5 trillion, largely due to a depreciation in emerging market currencies against the USdollar, the IIF said. It said China\\'s debt across all sectors was on track to hit 335% of GDP after increasing to 318% in the first quarter from 302%, the largest quarterly surge on record. About 60% of the debt build-up was due to non-financial corporates, it said. The group said some $3.7 trillion of emerging market debt would come due through the end of 2020, and was set to rise to $4 trillion in 2021. This story has been published from a wire agency feed without modifications to the text. Click here to read the Mint ePaperLivemint.com is now on Telegram. Join Livemint channel in your Telegram and stay updated'"
            ]
          },
          "metadata": {
            "tags": []
          },
          "execution_count": 17
        }
      ]
    },
    {
      "cell_type": "markdown",
      "metadata": {
        "id": "3bC7_CC784a0",
        "colab_type": "text"
      },
      "source": [
        "Date of publication"
      ]
    },
    {
      "cell_type": "code",
      "metadata": {
        "id": "HHKHQdk3AAMS",
        "colab_type": "code",
        "colab": {
          "base_uri": "https://localhost:8080/",
          "height": 121
        },
        "outputId": "f78185e0-841b-45d5-c03c-f8c8d2110616"
      },
      "source": [
        "Date_News1 = soup_article.find('span', class_=\"articleInfo pubtime\")\n",
        "Date_News1"
      ],
      "execution_count": null,
      "outputs": [
        {
          "output_type": "execute_result",
          "data": {
            "text/plain": [
              "<span class=\"articleInfo pubtime\"><em><span id=\"tmread_11594901184854\">1 min read</span></em>\n",
              " \n",
              " <em>.</em> <span data-expandedtime=\"Updated: 16 Jul 2020, 05:45 PM IST\" data-updatedlongtime=\"16 Jul 2020\" data-updatedtime=\"2020-07-16T17:45:21\" id=\"tBox_11594901184854\">Updated: 16 Jul 2020, 05:45 PM IST</span>\n",
              " \n",
              "</span>"
            ]
          },
          "metadata": {
            "tags": []
          },
          "execution_count": 18
        }
      ]
    },
    {
      "cell_type": "code",
      "metadata": {
        "id": "sjas6CGFA7EH",
        "colab_type": "code",
        "colab": {}
      },
      "source": [
        "#  Date_News1.get_text()"
      ],
      "execution_count": null,
      "outputs": []
    },
    {
      "cell_type": "code",
      "metadata": {
        "id": "CfITl_3KCJek",
        "colab_type": "code",
        "colab": {}
      },
      "source": [
        "# Date_News1.find(attrs={\"data-updatedlongtime\"})\n"
      ],
      "execution_count": null,
      "outputs": []
    },
    {
      "cell_type": "code",
      "metadata": {
        "id": "Pxf4fXjXG83d",
        "colab_type": "code",
        "colab": {}
      },
      "source": [
        "# Date_News1.find('span')['id']"
      ],
      "execution_count": null,
      "outputs": []
    },
    {
      "cell_type": "code",
      "metadata": {
        "id": "rocw4J_1Jx3J",
        "colab_type": "code",
        "colab": {
          "base_uri": "https://localhost:8080/",
          "height": 35
        },
        "outputId": "b0156910-7e6b-45fc-bf9f-6c70b0e2302b"
      },
      "source": [
        "d = Date_News1.find_next('span').find_next('span')['data-updatedlongtime']\n",
        "d"
      ],
      "execution_count": null,
      "outputs": [
        {
          "output_type": "execute_result",
          "data": {
            "application/vnd.google.colaboratory.intrinsic+json": {
              "type": "string"
            },
            "text/plain": [
              "'16 Jul 2020'"
            ]
          },
          "metadata": {
            "tags": []
          },
          "execution_count": 22
        }
      ]
    },
    {
      "cell_type": "code",
      "metadata": {
        "id": "PeeStoryszQ4",
        "colab_type": "code",
        "colab": {
          "base_uri": "https://localhost:8080/",
          "height": 34
        },
        "outputId": "eed537b8-07bc-4b2c-fdf5-5e58daa7911c"
      },
      "source": [
        "N = len(coverpage_news)\n",
        "N"
      ],
      "execution_count": null,
      "outputs": [
        {
          "output_type": "execute_result",
          "data": {
            "text/plain": [
              "20"
            ]
          },
          "metadata": {
            "tags": []
          },
          "execution_count": 23
        }
      ]
    },
    {
      "cell_type": "markdown",
      "metadata": {
        "id": "Zc19Rz0ItEA8",
        "colab_type": "text"
      },
      "source": [
        "Let's extract the text from the articles:"
      ]
    },
    {
      "cell_type": "code",
      "metadata": {
        "id": "aW64AZceoDll",
        "colab_type": "code",
        "colab": {}
      },
      "source": [
        "number_of_articles = N #one may use limited number like 5 or 6"
      ],
      "execution_count": null,
      "outputs": []
    },
    {
      "cell_type": "markdown",
      "metadata": {
        "id": "-IWE3V7BRQno",
        "colab_type": "text"
      },
      "source": [
        "Combining all together"
      ]
    },
    {
      "cell_type": "code",
      "metadata": {
        "id": "ekmRl1BNu5Vn",
        "colab_type": "code",
        "colab": {}
      },
      "source": [
        "url = \"https://www.livemint.com/topic/international\"\n",
        "url_base = \"https://www.livemint.com\"\n",
        "\n",
        "\n",
        "# Empty lists for content, links and titles\n",
        "news_contents = []\n",
        "list_links = []\n",
        "list_titles = []\n",
        "dates = []\n",
        "\n",
        "page_number = 4\n",
        "\n",
        "for i in range(page_number):\n",
        "  if i < 0:\n",
        "    r1 = requests.get(url)\n",
        "    coverpage = r1.content\n",
        "    soup1 = BeautifulSoup(coverpage, 'html5lib')\n",
        "    coverpage_news = soup1.find_all('h2', class_=\"headline\")\n",
        "    N = len(coverpage_news)\n",
        "    number_of_articles = N \n",
        "  \n",
        "  else:\n",
        "    next_page_url = url + \"/page-\" + str(i+1)    # \"https://www.livemint.com/topic/international/page-2\"\n",
        "    r1 = requests.get(next_page_url)\n",
        "    coverpage = r1.content\n",
        "    soup1 = BeautifulSoup(coverpage, 'html5lib')\n",
        "    coverpage_news = soup1.find_all('h2', class_=\"headline\")\n",
        "    N = len(coverpage_news)\n",
        "    number_of_articles = N \n",
        "\n",
        "\n",
        "  for n in range(number_of_articles):\n",
        "      # only news articles (there are also albums and other things)\n",
        "      if \"news\" not in coverpage_news[n].find('a')['href']:  \n",
        "          continue\n",
        "      \n",
        "    # Getting the link of the article\n",
        "      link = coverpage_news[n].find('a')['href']\n",
        "      full_link = complete_url(link)\n",
        "      list_links.append(full_link)\n",
        "      \n",
        "      # Getting the title\n",
        "      # title = coverpage_news[n].find('a').get_text()\n",
        "      title = coverpage_news[n].get_text()\n",
        "      list_titles.append(title)\n",
        "\n",
        "      # Reading the content (it is divided in paragraphs)\n",
        "      article = requests.get(full_link)\n",
        "      article_content = article.content\n",
        "      soup_article = BeautifulSoup(article_content, 'html5lib')\n",
        "      body = soup_article.find_all('div', class_='mainArea')\n",
        "      #body[0]\n",
        "      x = body[0].find_all('p')\n",
        "\n",
        "      # Unifying the paragraphs\n",
        "      list_paragraphs = []\n",
        "      for p in np.arange(0, len(x)):\n",
        "          paragraph = x[p].get_text()\n",
        "          list_paragraphs.append(paragraph)\n",
        "          text = \" \".join(list_paragraphs)\n",
        "\n",
        "      final_article = re.sub(r'\\s+', ' ', text)   \n",
        "      news_contents.append(final_article)\n",
        "\n",
        "      #Date of Publication\n",
        "      Date_News1 = soup_article.find('span', class_=\"articleInfo pubtime\")\n",
        "      d = Date_News1.find_next('span').find_next('span')['data-updatedlongtime']\n",
        "      dates.append(d)\n",
        "\n",
        "\n",
        "\n",
        "\n",
        "\n",
        "\n",
        "    "
      ],
      "execution_count": null,
      "outputs": []
    },
    {
      "cell_type": "code",
      "metadata": {
        "id": "Um5tWscXl0db",
        "colab_type": "code",
        "colab": {
          "base_uri": "https://localhost:8080/",
          "height": 961
        },
        "outputId": "886c5105-8ae4-432d-e3b9-684b9663249a"
      },
      "source": [
        "news_contents"
      ],
      "execution_count": null,
      "outputs": [
        {
          "output_type": "execute_result",
          "data": {
            "text/plain": [
              "[' Global debt surged to a record $258 trillion in the first quarter of 2020 as economies around the world shut down to contain the coronavirus pandemic, and debt levels are continuing to rise, the Institute for International Finance said on Thursday in a report. The IIF, which represents global banks and financial institutions, said the first-quarter debt-to-GDP ratio jumped by over 10 percentage points, the largest quarterly surge on record, to reach a record 331%. While the rise in debt levels was well below average quarterly gains seen from 2015 to 2019, the pace of global debt build-up by governments, companies, financial institutions and households had accelerated since March, it said. Overall gross debt issuance hit an \"eye-watering\" record of $12.5 trillion in the second quarter, compared with a quarterly average of $5.5 trillion in 2019, the IIF said. It noted that 60% of those issues came from governments. \"While increasing debt levels raise concerns about debt sustainability, over 92% of government debt is investment-grade,\" the report said. Debt in mature markets topped 392% of GDP, up from 380% in 2019, with the rise in debt ratios outside the financial sector most pronounced in Canada, France, Norway and the United States. US debt made up half of the total $185 trillion of debt in mature markets. Debt-to-GDP ratios jumped to 230% in emerging markets in the first quarter from 220%, but the US dollar value of debt fell by $700 million to $72.5 trillion, largely due to a depreciation in emerging market currencies against the USdollar, the IIF said. It said China\\'s debt across all sectors was on track to hit 335% of GDP after increasing to 318% in the first quarter from 302%, the largest quarterly surge on record. About 60% of the debt build-up was due to non-financial corporates, it said. The group said some $3.7 trillion of emerging market debt would come due through the end of 2020, and was set to rise to $4 trillion in 2021. This story has been published from a wire agency feed without modifications to the text. Click here to read the Mint ePaperLivemint.com is now on Telegram. Join Livemint channel in your Telegram and stay updated',\n",
              " ' Union civil aviation ministry Hardeep Singh Puri said domestic flights in India may touch 55-60% of pre-Covid operations by mid-November, which is around the same time as Diwali. Puri also said, there might be a short extension on the airfare cap on domestic flights beyond 24 August due to muted demand. On Tuesday, over 68,000 passengers travelled in domestic flights till 23:59 hours. There were a total of 1,633 flight movements in the country. Footfalls at airports was 1,36,099 and total number of flyers were 68,804. There have been 816 departures and 817 arrivals. Moreover, on 4 July, Puri said that over 75,000 passengers travelled in domestic flights, a milestone reached for the first time since the flights resumed amid novel coronavirus pandemic on 25 May. He said that domestic operations began with about 30,000 flyers on May 25. \"Domestic operations began with about 30K flyers on 25th May. Yesterday we crossed the 75,000 mark which indicates a slow and steady rise in the number of domestic flyers. On 4th July till 23:59 hrs - total movements 1,560, footfalls at airports 1,53,547, and total number of flyers 76,104,\" Puri tweeted. All scheduled commercial passenger flights were suspended in India on March 25 after the Central government imposed a nationwide lockdown to contain the spread of Covid-19. The domestic flights resumed operations under heavy healthcare surveillance on 25 May with 30,000 flyers. Click here to read the Mint ePaperLivemint.com is now on Telegram. Join Livemint channel in your Telegram and stay updated',\n",
              " ' Civil Aviation Minister Hardeep Singh Puri in a press briefing today said international flights may resume under bilateral air bubbles with other countries with certain conditions as many are imposing entry restrictions even now, including India in the wake of novel coronavirus pandemic. \"Till international civil aviation can reclaim its pre-COVID numbers, I think answer will lie through bilateral air bubbles, which will carry a possible number of people but under defined conditions as countries are still imposing entry restrictions including India,\" Puri said. The aviation minister also hinted at resumption of international flights with at least three more countries amid this bilateral situation. The flights may resume from tomorrow. \"We are at a very advanced stage between with three countries and it is a work-in-progress. For example, Air France will be operating 28 flights between Delhi, Mumbai, Bengaluru and Paris from 18 July to 1 August while US will be flying 18 flights between July 17-31, but this is an interim one. We have request from German carriers to permit flights to India and we are processing it,\" Puri said. A travel bubble or a bilateral air bubble is a travel corridor between two countries that wish to reopen their borders and re-establish connections with each other. This is an exclusive partnership considered between countries that have either largely eliminated the virus, or trust the testing numbers. Earlier, the Ministry of Home Affairs said the international passenger flight services in the country will resume in a phased manner during \\'Unlock 2.0\\'. The Directorate General of Civil Aviation (DGCA) earlier mentioned \"international scheduled flights may be allowed on selected routes on a case-to-case basis.\" On the other hand, India\\'s Vande Bharat Mission has evacuated more than 6,80,000 Indians stranded abroad due to coronavirus pandemic till Wednesday, Puri said today. \"A total of 6,87,467 passengers have been evacuated under the mission till 15 July, 23:59 hours,\" he said. As on 13 July, Air India and Air India Express operated 1,103 flights, bringing back 2,08,000 Indians under the mission. \"On many of these flights, we ferried back 85,289 passengers to various countries across the world,\" said Air India CMD Rajiv Bansal. He said that over 80,000 people have also flown out of the country since the outbreak of the pandemic. This is the fourth phase of the mission. The first phase of the mission commenced on 7 May. Moreover, on Tuesday, a total of 68,804 passengers travelled in domestic flights till 23:59 hours. There were a total of 1,633 flight movements in the country. Footfalls at airports was 1,36,099 and total number of flyers were 68,804. There have been 816 departures and 817 arrivals. Puri also said, there might be a short extension on the airfare cap on domestic flights beyond 24 August due to muted demand. All scheduled commercial passenger flights were suspended in India on March 25 after the Central government imposed a nationwide lockdown to contain the spread of Covid-19. Domestic flights in the country resumed operations from May 25. Click here to read the Mint ePaperLivemint.com is now on Telegram. Join Livemint channel in your Telegram and stay updated',\n",
              " ' New Delhi: The Enforcement Directorate (ED) has filed a money laundering case against the GVK group, the Mumbai International Airport Limited (MIAL) and others to probe alleged irregularities to the tune of ₹705 crore in running the Mumbai airport, officials said on Tuesday. The central probe agency has filed an enforcement case information report (equivalent of a police FIR) under the Prevention of Money Laundering Act after studying a recent CBI FIR filed against the same entities. The ED will probe if genuine funds were laundered to amass personal assets by illegal routing of funds, they said. The CBI case pertains to the alleged siphoning off ₹705 crore from the funds of the Mumbai International Airport Limited (MIAL), a joint venture under public-private partnership (PPP) between the GVK Airport Holdings Limited and the Airports Authority of India (AAI) besides other investors, by showing inflated expenditure, under-reporting of revenues, fudging of records among others The Central Bureau of Investigation (CBI) has booked Gunupati, a director in MIAL, his son GV Sanjay Reddy, managing director in MIAL, the companies MIAL, GVK Airport Holdings Limited (a GVK group company) and nine other private companies allegedly used to camouflage the inflated figures through sham deals and unidentified AAI officials, they added. On April 4, 2006, the AAI entered into an agreement with MIAL for the modernisation, upkeep, operation and maintenance of the Mumbai airport. It is alleged that the promoters of the GVK group in MIAL, in connivance with their executives and unidentified AAI officials, resorted to siphoning off funds using different ways, the CBI had said early this month. The CBI had also carried out raids in Mumbai and Hyderabad after filing its FIR. This story has been published from a wire agency feed without modifications to the text. Only the headline has been changed. Click here to read the Mint ePaperLivemint.com is now on Telegram. Join Livemint channel in your Telegram and stay updated',\n",
              " ' New Delhi: Full service carrier Vistara, a joint venture between Tata Sons and Singapore Airlines, hopes to resume international flight operations by the end of this year, a senior official of the airline said. The airline plans to resume international flights by the third or fourth quarter of the year, the chief commercial officer at the airline, Vinod Kannan, said on Monday. \"(The) United Kingdom is definitely on our cards as well,\" Kannan said adding that the airline is reviewing a decision on adding flights to the country. International flight operations remain suspended by the Indian government at least till 31 July as the number of covid-19 cases continue to rise. Certain countries are also yet to ease various entry restrictions to allow foreigners even though the Indian government hopes to open flight services in bilateral bubbles with specific countries. Meanwhile, Kannan said that it may take a few months for \\'normalcy\\' to return to air travel as several states continue to impose entry restrictions due to the rising number of covid-19 cases. Domestic traffic continues to be directional as secondary cities (tier one and two cities) continue to register good demand, Kannan said adding that this has prompted the airline to add flights on routes like Mumbai and Patna. \"Vistara is currently flying about 35 to 40 flights during the weekday, which rises to about 45 to 50 flights per day during the weekend,\" he said adding that the airline is operating at about a 25-30% of its capacity, below the 45% capacity threshold set by the government. \"It\\'s a tough phase for everyone. We are maintaining pricing on certain routes, where we can,\" he added. Restricted recommencement of domestic air traffic with some states imposing additional restrictions is however unlikely to help the aviation industry to recover the ground lost during the current year, rating agency ICRA said in a report last week. According to ICRA, domestic passenger traffic will register a reduction of 41%-46% during 2020-21, as compared to the previous year while international traffic is expected to reduce 67%-72% during the same period. Meanwhile, Vistara said that 66% of its customers will fly with the airline within the next six months, quoting a survey conducted by the company involving 6,000 of its passengers. \"20% of the survey respondents planned to take their next flight to a destination outside of India. Singapore, the United Kingdom and Dubai were named most often as the destinations for the respondents’ next international trip, followed by the United States and Thailand,\" it added. Click here to read the Mint ePaperLivemint.com is now on Telegram. Join Livemint channel in your Telegram and stay updated',\n",
              " ' Remittances are one of the biggest sources of funds for low- and middle-income countries. However, the pandemic has disrupted them, with the World Bank recently projecting a 20% drop in inflows. Such a large decline in remittances can also affect financial inclusion in poorer countries, suggests data from a working paper published by the International Monetary Fund (IMF). In the study, Sami Ben Naceur and other researchers use World Bank data on average remittances from 2004 to 2015 for 187 countries to study their impact on financial inclusion. The study uses data on access and usage of financial services to define inclusion levels. When remittances are above 13% of gross domestic product on average, they strengthen financial inclusion by improving access and use of banking systems, the study finds. However, at a level lower than this threshold, remittances are used directly for consumption rather than investment, becoming a substitute instead of a contributor to formal banking. Below the threshold, neither are remittance inflows deposited nor do they expand the banking sector’s role. In low- and middle-income countries, where formal banking channels face high entry barriers, remittances become a cheap source of income. However, as the inflows rise, households save more and tend to use banking services, which in turn improves financial inclusion, the study finds. The study measures access to banking through the number of commercial bank branches and ATMs per 100,000 adults for each country. For usage, the number of depositors and borrowers per 1,000 adults is considered. The study also accounts for factors such as inflation and trade to arrive at the conclusions. Also read: Do remittances enhance financial inclusion in LMICs and in fragile states? Click here to read the Mint ePaperLivemint.com is now on Telegram. Join Livemint channel in your Telegram and stay updated',\n",
              " ' The international passenger flight services in the country will resume in a phased manner during \\'Unlock 2.0\\', the ministry of home affairs said in a statement on Monday. In the wake of coronavirus outbreak, India suspended all the domestic and international flight services in the last week of March. While the domestic flights have started operations in limited routes after a gap of two months, the international flight services will remain suspended till July 15. The Directorate General of Civil Aviation (DGCA) earlier mentioned \"international scheduled flights may be allowed on selected routes on a case-to-case basis.\" The DGCA order had come after several countries such as the United Kingdom, France urged the Indian government for allowing Air India to carry outbound passengers from India on its flights meant to repatriate Indian citizens from those countries. To bring back the stranded Indians across the world, the central government started Vande Bharat Mission on May 6. In the first three phases of the Vande Bharat Mission, around 875 international flights were scheduled for operation from over 50 countries across 5 continents. Nearly 1,25,000 Indians have returned from different countries, the civil aviation minister Hardeep Singh Puri said earlier. \"International air travel of passengers has been permitted in a limited manner under the Vande Bharat mission. Further opening up will take place in a calibrated manner,\" the central government said in a statement. Earlier, the civil aviation minister said that re-commencement of international flight services will depend on factors like \\'border acceptance\\' norms in the arriving country and the traffic demand. He also hinted at the prospects of bilateral bubble arrangements, which will allow some international operations between countries. In a relief to the airlines, the civil aviation ministry allowed the companies to fly up to 45% of the pre-COVID-19 capacity on domestic routes. The domestic airlines have ferried close to two million passengers in a resuming service on May 25, a senior government official said. Last week, the Supreme Court clarified that that there is no need to keep middle seat vacant in the flights. The apex court upheld the Bombay High Court order that had permitted all flight operators to allow passengers to occupy middle seats in flights. However, the airlines should strictly comply with guidelines of aviation regulator on measures to prevent the spread of COVID-19, the top court said. Click here to read the Mint ePaperLivemint.com is now on Telegram. Join Livemint channel in your Telegram and stay updated',\n",
              " ' The Union Cabinet chaired by Prime Minister Narendra Modi has given its approval for declaration of Kushinagar Airport in Uttar Pradesh as an international airport, stating that it will offer improved connectivity to the important Buddhist pilgrimage site. \"You know that Kushinagar is the mid-point of the Buddhist circuit. It has pilgrimage sites in Lumbini, Shravasti, Kapilvastu nearby it. A little farther, it has sites in Sarnath and Gaya,\" Union Environment Minister Prakash Javadekar told the media after a Cabinet meeting today. The Cabinet also said that the international status to the airport will result in boosting of domestic/international tourism and economic development of the regions. It will be an important strategic location with the international border close by. \"However, there was no airport there of international standards. Kushinagar airport is being declared as an international airport. A 3-km-long runway strip has already been made. Now, even a big aircraft of Airbus can land at the airport,\" he added in the meeting. Kushinagar is located in the north-eastern part of Uttar Pradesh about 50 km east of Gorakhpur and is one of the important Buddhist pilgrimage sites. Several other Buddhist sites are present near Kushinagar like Sravasti (238 km), Kapilvastu (190 km) and Lumbini (195 km) and that makes it an attraction for both followers and visitors alike, the government said. Click here to read the Mint ePaperLivemint.com is now on Telegram. Join Livemint channel in your Telegram and stay updated',\n",
              " ' NEW DELHI: To curb the growing misinformation around coronavirus among Indians, International Fact-Checking Network (IFCN) has released a Hindi version of its global fact-checking covid-19 chatbot for WhatsApp. The fact checking chatbot is already available in English and Spanish. The chatbot allows WhatsApp users to ask questions on covid-19 and cross check any piece of published information they suspect to be false with independent fact-checkers. IFCN has roped in 11 fact-checking groups in India and seven of them publish content in Hindi. Jagran Group’s fact-checking unit Vishvas News, Fact Crescendo, India Today, Newschecker, Boom Fact Check, News Mobile and The Quint are some of the fact checkers. The available database in Hindi includes over 250 fact-checks to start with. It will be updated daily with new fact checks. According to IFCN, more than 6,600 hoaxes related to covid-19 have been identified by over 80 fact-checking organizations from 74 countries so far. Users can access IFCN chatbot on WhatsApp by saving +1 (727) 2912606 as a contact number and can enable the Hindi version by sending a message saying नमस्ते. The other option is through the portal. \\u200b “Billions of users rely on WhatsApp to stay in touch with their friends and families every month. Since bad actors use every single platform to disseminate falsehoods, to mislead others during such troubling times, fact-checkers’ work is more important than ever,\" Baybars Orsek, director, IFCN said in a statement. According to WhatsApp, the IFCN bot allows users to get fact-checks and searchable database of hoaxes that have been debunked. The verified fact-checkers can only see messages sent directly to them, and cannot see, monitor or delete content on WhatsApp. In addition to IFCN chatbots, various state governments in India have also launched their own covid-19 bots on WhatsApp, but mostly to provide correct information on the disease to the citizens. Government of India had also rolled out a chatbot called MyGov Corona Helpdesk on WhatsApp. World Health Organisation (WHO) too launched a chatbot service to answer questions on covid-19. WhatsApp has over 400 million users in India. Click here to read the Mint ePaperLivemint.com is now on Telegram. Join Livemint channel in your Telegram and stay updated',\n",
              " ' The maker of Sonalika tractors and farm machinery, International Tractor Ltd or ITL has reported total wholesales of 9,177 units for May, up 18.6% year-on-year from 7,737 units sold in May last year. The volumes include export shipments of 1,537 tractors in May, which the company claims to have grown by 25% YoY. Wholesale billings represent manufacturers’ sale to its dealers. The company further said that it’s tractor deliveries or retail sales from its dealerships during May grew 26% YoY. It, however, did not disclose the retail volumes for the month. Raman Mittal, executive director at the Hoshiarpur-based tractor manufacturer had told Mint last month that enquiries were strong in May and revival would happen within the month. “The fundamentals of tractor demand are in place such as ground water levels are high, yields continue to improve, rabi crop output was robust following with the sowing of Kharif looking better (than last year) and the rural sentiments has not changed during covid crisis,\" he had told this publication recently. The senior company executive today said the Sikander series, which was launched 2 years ago, has picked up well and now contributes about 75-80% of the total sales under the Sonalika portfolio. In a statement on June 3, the company said that while farmers are looking at application based farming with paddy being a major Kharif crop, it sees increasing demand for customized tractors and specialized implements in the near future. Mittal said that the company plans to launch 4 new application specific tractor models namely Tiger, Sikander DLX, Mahabali (for Telangana) and Chhatrapati (for Maharashtra). “These new tractors would be the first of their kind in India offering customization that will address the local needs of farmers. These new tractors are expected to contribute 20-25% of volumes in our overall sales going forward,“ Mittal said. Mittal also expects that the financing institutions would be aggressive in funding new tractor sales thereby driving recovery in the coming months. “With farmer sentiments continuing to remain positive, the industry deliveries is expected to register 10% growth in June’20,\" he added. Click here to read the Mint ePaperLivemint.com is now on Telegram. Join Livemint channel in your Telegram and stay updated',\n",
              " ' New Delhi: Indian aviation regulator DGCA on Saturday said the suspension of scheduled international commercial passenger flights will continue till midnight on June 30, hours after the Home Ministry announced fresh guidelines pertaining to the countrywide lockdown to contain the coronavirus pandemic. \"It is once again reiterated that foreign airlines shall be suitably informed about the opening of their operations to or from India in due course,\" the circular issued by the Directorate General of Civil Aviation (DGCA) said. Domestic passenger flight services resumed in the country from Monday after a hiatus of two months since the lockdown was announced on March 25, when all scheduled commercial passenger flights were suspended in India. International flights continue to remain suspended even now. The Home Ministry on Saturday said \\'Unlock-1\\' will be initiated in the country from June 8 under which the nationwide lockdown effectuated on March 25 will be relaxed to a great extent, including opening of shopping malls, restaurants and religious places, even as strict restrictions will remain in place till June 30 in the country\\'s worst pandemic-hit areas. International air travel shall remain suspended, the MHA order said, adding that a decision on when to resume it would be taken after making an assessment of the situation. This story has been published from a wire agency feed without modifications to the text. Only the headline has been changed. Click here to read the Mint ePaperLivemint.com is now on Telegram. Join Livemint channel in your Telegram and stay updated',\n",
              " \" Around 80 arrival and departure flights from Delhi's Indira Gandhi International airport have been cancelled due to various reasons, including state govts' restrictions and deferment of the opening of the airports. Bengaluru's Kempegowda International airport also saw 9 flights cancellations till 9am. Earlier flight schedule was made for all airports including West Bengal, Andhra Pradesh, Maharashtra and Chennai. West Bengal govt had decided that it will resume flights from 28th May, likewise, Andhra Pradesh govt will start domestic flight operations from 26th May. Maharashtra has restricted flight movements to 25 takeoffs and 25 landings every day. Mumbai airport is India's second busiest airport. Tamil Nadu govt has restricted the number of incoming flights to Chennai at 25. The re-commencement of services comes a day after massive spike in ticket cancellations, along with a drop in bookings, was reported by the aviation industry for Monday's flights as several states had moved to limit air operations. Domestic flight operation in India started on Monday after hiatus of two months, the operations were halted to prevent the spread of the coronavirus. With agency inputs Click here to read the Mint ePaperLivemint.com is now on Telegram. Join Livemint channel in your Telegram and stay updated\",\n",
              " ' BENGALURU : The Bengaluru airport management is introducing a unique feature of parking-to-boarding contactless journey for the passengers as the domestic flight resumes from Monday. In order to contain coronavirus transmission among passengers and staff, the Bangalore International Airport Limited (BIAL) introduced the new feature of contactless journey right from pre-entry check to security check and boarding. \"Contactless would be the buzzword at the Kempegowda International Airport, Bengaluru when operations resume from May 25,\" the BIAL said in a statement on Sunday. With greater emphasis on minimum touch and minimum exposure between passengers and airport personnel, BIAL aims to minimise all physical contact at the airport. The technology will continue to enable a seamless airport journey, with greater emphasis on health and safety, the statement said. \"We have introduced innovative contactless procedures to minimise exposure at the airport,\" Hari Marar, managing director and chief executive officer of BIAL, said. \"These enhancements demonstrate our continued commitment to keep our passengers safe in this environment.\" According to the BIAL, the features include pre-entry process, where the passengers have to wear masks and carry e-boarding or printed passes. The travellers will undergo thermal scan and will have to show that the Aarogya Setu app on the passengers mobile phone has the \\'you-are-safe\\' message. \"CISF personnel will verify the boarding pass and Government-issued Photo ID using an electronic device or through a magnified glass screen,\" it said. The doormats will be soaked with bleach at the terminal entrance to disinfect the shoes, the BIAL said. There will be contactless self-service kiosk where the passengers will collect the baggage tag before proceeding to the airline counter to drop-off luggage. A transparent partition has been installed at the airport, to ensure the safety of both airline staff and passenger at the airline bag drop counters. Under the new contactless process, body scanning will be done using door frame metal detectors. Stamping of the boarding pass has been suspended, as directed by the Directorate General of Civil Aviation, the BIAL said. Before boarding, the airline staff will once again do thermal screening and then permit boarding. This story has been published from a wire agency feed without modifications to the text. Only the headline has been changed. Click here to read the Mint ePaperLivemint.com is now on Telegram. Join Livemint channel in your Telegram and stay updated',\n",
              " ' KARACHI : A preliminary report on the Pakistan International Airlines (PIA) plane crash, in which 97 people were killed, has raised serious questions about the pilot\\'s handling of the aircraft and what prevented the crew in the cockpit from informing the air traffic controllers about the troubles. Pakistani investigators are trying to find out if the crash of the national flag carrier\\'s flight PK-8303 is attributable to a pilot error or a technical glitch, with new leads raising fresh questions over the circumstances of the incident, Geo News reported. According to the report, prepared by the country\\'s Civil Aviation Authority (CAA), the Airbus A-320’s engines had scraped the runway thrice on the pilot\\'s first attempt to land, causing friction and sparks recorded by the experts. After the third impact, the pilot took the aircraft off into the air again, which officials found very strange as the crew in the cockpit did not inform the Air Traffic Control (ATC) at the Jinnah International Airport of any problem with the landing gear, The News International quoted CAA sources as saying. Since automated emergency systems within the aircraft go off in case of any emergency, and the loud alarms and warnings are impossible to ignore, there was no indication from the pilot to the ATC that something was amiss, it said. When the aircraft scraped the ground on the first failed attempt at landing, the engine\\'s oil tank and fuel pump may have been damaged and started to leak, preventing the pilot from achieving the required thrust and speed to raise the aircraft to safety, the report said. The pilot made a decision \"on his own\" to undertake a \"go-around\" after he failed to land the first time. It was only during the go-around that the ATC was informed that landing gear was not deploying, it said. “The pilot was directed by the air traffic controller to take the aircraft to 3,000 feet, but he managed only 1,800. When the cockpit was reminded to go for the 3,000 feet level, the first officer said ‘we are trying’,\" the report said. Experts said that the failure to achieve the directed height indicates that the engines were not responding. The aircraft, thereafter, tilted and crashed suddenly. \"The plane descended too fast, almost plunged,\" sources familiar with the report said. The investigators were trying to establish why the pilots not once informed the ATC of any emergency, malfunction, engine failure or fire despite the visible problems the aircraft was facing, the report said, adding that it is rare to have so many technical problems at the same time. The ATC’s conduct is also being probed. The report added that at this point, there are more questions than answers with the most serious being why and how the alarm systems inside the cockpit failed to warn the pilots of an impending emergency. PIA chief executive officer Arshad Malik has said that the black box of the plane has been handed over to the investigation team. The team, headed by Air Commodore Muhammad Usman Ghani, President of the Aircraft Accident and Investigation Board, is expected to submit a full report in about three months. According to the PIA’s engineering and maintenance department, the last check of the plane was done on March 21 this year and it had flown from Muscat to Lahore a day before the crash. In the wake of the COVID-19 pandemic, the Pakistan government had allowed the limited domestic flight operations from five major airports — Islamabad, Karachi, Lahore, Peshawar and Quetta — from May 16. After the plane tragedy, the PIA has called off its domestic operation. Click here to read the Mint ePaperLivemint.com is now on Telegram. Join Livemint channel in your Telegram and stay updated',\n",
              " ' KARACHI : The flight data recorder and cockpit voice recorder have been recovered from site of a place crash in Karachi, an airline spokesman said on Saturday. \"The black box had been found late yesterday, we are handing it over to the inquiry board,\" Pakistan International Airlines (PIA) spokesman Abdullah Khan said, clarifying that both the flight data recorder and cockpit voice recorder were found. A PIA Airbus jet with 99 people aboard crashed into a crowded residential district of the city of Karachi on Friday afternoon after twice trying to land at the airport. Click here to read the Mint ePaperLivemint.com is now on Telegram. Join Livemint channel in your Telegram and stay updated',\n",
              " ' On the occasion of International Nurse Day, Prime Minister Narendra Modi lauded the role played by nurses and said: \"they are doing great work towards defeating COVID-19\". \"International Day of the Nurse is a special day to express gratitude to the phenomenal nurses working round the clock to keep our planet healthy. Presently, they are doing great work towards defeating COVID-19. We are extremely grateful to the nurses and their families,\"PM Modi said in tweet. \"Inspired by Florence Nightingale, our hardworking nursing staff personify abundant compassion. Today, we also reiterate our commitment to keep working for welfare of nurses and devote greater attention to opportunities in this field so that there is no shortage of caregivers,\" the Prime Minister added. Inspired by Florence Nightingale, our hardworking nursing staff personify abundant compassion. Today, we also reiterate our commitment to keep working for welfare of nurses and devote greater attention to opportunities in this field so that there is no shortage of caregivers. Union Home Minister Amit Shah and former Congress Chief Rahul Gandhi called them unsung heroes fighting the coronavirus pandemic. \"On International Nurses Day, I express my gratitude towards all the nurses serving humanity across the world. Nurses are the backbone of our medical sector. Their role in containing the spread of Covid-19 is truly remarkable. India salutes our nurses for their tireless efforts,\" Amit Shah tweeted. On #InternationalNursesDay, I express my gratitude towards all the nurses serving humanity across the world. Nurses are the backbone of our medical sector. Their role in containing the spread of COVID-19 is truly remarkable. India salutes our nurses for their tireless efforts. \"Across India our nurses are working tirelessly, around the clock, to help save lives. They are our unsung heroes, our first line of defence against the Covid-19 virus. On International Nurses Day I thank and salute each and every one of them for their hard work & dedication.\" Across India our nurses are working tirelessly, around the clock, to help save lives. They are our unsung heroes, our first line of defence against the Covid19 virus. On #InternationalNursesDay I thank & salute each & every one of them for their hard work & dedication. International Nurse Day is celebrated on May 12 every year, commemorating the birth anniversary of English social reformer and the founder of modern nursing, Florence Nightingale, and in appreciation of the contributions of nurses to the society around the globe. -With agency inputs Click here to read the Mint ePaperLivemint.com is now on Telegram. Join Livemint channel in your Telegram and stay updated',\n",
              " ' IT spending in India is expected to drop by 4.5% compared to 2019 at a growth rate of 9.1%, according to the Worldwide Blac Book Live Edition, March 2020 report by the International Data Corporation (IDC). The research firm expects most of this decline to come from the industry’s hardware segment. The IDC said that segment would drop by 4.1% due to the covid-19 pandemic, while the growth rate remains at 16.7% for hardware. “Growth of IT services is expected to be almost flat at 6.9% as enterprises look at maintaining the status quo on IT services and contracts,\" the firm noted. Reports say that 90% of IT employees and 70-80% of business process outsourcing (BPO) firms have adopted work from home already and it’s unlikely that they will change post the lockdowns, at least in the short term. On the other hand, the demand for software solutions is expected to increase in order to accomodate an increasing number of employees who will be working from home. “Collaborative application vendors are looking at making minor adjustments and offering the premium version through a minimum price subscription model,\" the IDC said. Remote working situations will also drive demand for IT services, which includes endpoint and network services. “Although IT spending will be impacted, specific solutions such as conferencing and collaboration, secure endpoint and network management, CRM, cloud storage, backup & recovery solutions, and remote support & services will continue to witness a steady rise amidst the crisis. Enterprises are investing in solutions that enable their remote workforce to remain productive without service disruptions,\" said Shweta Baidya, Senior Research Manager, Enterprise Software and IT Services, IDC. That said, renewal of long term IT services contracts should be delayed, which is something other industry stakeholders have said too. Enterprises, though, are increasing focus on cloud solutions in order to ensure business continuity amid the lockdowns. Click here to read the Mint ePaperLivemint.com is now on Telegram. Join Livemint channel in your Telegram and stay updated',\n",
              " ' NEW DELHI : Retail company Lifestyle International-India, part of Dubai-based retail and hospitality conglomerate Landmark Group—that runs popular formats such as Lifestyle, Max, and Home Centre in India—on Monday announced the appointment of former Flipkart executive Rishi Vasudev as the chief executive officer for Lifestyle and Home Centre. Vasudev, who was formerly part of Walmart-owned Flipkart where he was group head for its fashion business will take the new role starting 1st June 2020, the company said in a statement on Monday. Vasudev will succeed Vasanth Kumar who is set to exit the company by 30 June. Vasudev has over two decades of work experience across top retail brands including Calvin Klein, Arrow, among others. He has served as the CEO of Calvin Klein and the senior vice-president and chief operating officer for Arrow, Gant and Izod while at Arvind Brands. He also worked at Aditya Birla Group across brands such as Louis Philippe. At Flipkart, Vasudev led the overall fashion strategy across Flipkart, Myntra, and Jabong, as the company’s senior vice-president and its fashion group head. “We are delighted to welcome Rishi on board. His experience in fashion and consumer understanding will be a great asset to our business. He shares our Group’s people and customer focus and his rich Online and Technology expertise will also be integral to bringing innovative solutions to our omni-channel business goals,\" H. Ramanathan, Chairman of the Board, India said in the statement. In India, Lifestyle International Pvt. Ltd started operations in the late 90s with its maiden Lifestyle department store in Chennai. The company today has over 400 stores in 130 cities in India across its Lifestyle department store, Home Centre, Max, and Easybuy retail formats. Lifestyle International is part of Dubai-based Landmark Group, founded by former taxi driver-turned-billionaire Micky Jagtiani. The group has interests in retail, hospitality, and shopping malls across the Middle East and India. It runs fashion departmental store Lifetsyle, hypermarket format Spar, apart from fashion brands Max, Splash, kids retail format Babyshop among others. Click here to read the Mint ePaperLivemint.com is now on Telegram. Join Livemint channel in your Telegram and stay updated',\n",
              " ' MUMBAI : This year’s Geneva International Motor Show (Gims), which was scheduled to be organized between March 5-15, is now cancelled in an attempt to restrict the fast-spreading coronavirus, the organisers of one of the largest annual motor shows globally said in an official statement today. “The 90th edition of the GIMS, which was supposed to welcome the media from next Monday and the general public from 5 to 15 March 2020, will now finally not take place,\" the organizing committee said in its official statement. Besides issuing a detailed advisory for its citizens and tourists, the Federal Office of Public Health (FOPH), Switzerland has banned any large-scale gathering of more than 1,000 people until 15 March 2020. “Large-scale events involving more than 1000 people are to be banned. The ban comes into immediate effect and will apply at least until 15 March 2020,\" FOPH said on its website today. FOPH’s decision to cancel the international motor show comes just three days before the opening of the exhibition to the media. According to FOPH, fifteen cases of coronavirus are confirmed in Switzerland as of Friday, spread across cities such as Geneva, Zurich, Ticino, Vaud and others. It said that all persons who have tested positive for Covid-19 have carried the infection from abroad. Neighboring country Italy has confirmed about 655 cases of coronavirus until today morning, FOPH said. Maurice Turrettini, Chairman of the Foundation Board said, “We regret this situation, but the health of all participants is our and our exhibitors\\' top priority. This is a case of force majeure and a tremendous loss for the manufacturers who have invested massively in their presence in Geneva. However, we are convinced that they will understand this decision.\" The official statement from the organisers of Gims said that although until last week it wasn’t clear that coronavirus scare could impact in terms of cancellation of the motor show as a necessary step to contain the infection, the situation changed with the appearance of the first confirmed coronavirus case in Switzerland, which led to the Federal Council’s decision earlier today. “The financial consequences for all those involved in the event are significant and will need to be assessed over the coming weeks. Tickets already purchased for the event will be refunded,\" the statement said. Click here to read the Mint ePaperLivemint.com is now on Telegram. Join Livemint channel in your Telegram and stay updated',\n",
              " ' New Delhi: GMR-led Delhi International Airport Ltd (DIAL) said on Monday that Delhi\\'s Indira Gandhi International Airport has become free of single-use plastic usage. The Confederation of Indian Industry-ITC Centre of Excellence for Sustainable Development (CII-ITC CESD) that supports the business community towards achieving sustainability has certified DIAL for its successful voluntary implementation of single-use plastic-free airport measures within IGI Airport\\'s operations. \"Our objective to make Delhi Airport free from single-use plastic is in line with the Prime Minister\\'s vision to abolish all single-use plastic from India by 2022. DIAL is committed to preserve the environment and do its bit,\" said DIAL Chief Executive Officer Videh Kumar Jaipuriar. SUPA excited to share that #DelhiAirport has been certified as #SingleUsePlastic free Airport!\\u200b @ciicesd @FollowCII @seematweet pic.twitter.com/KoDwbEkTgV In September 2018, following the World Environment Day theme of \\'Beat Plastic Pollution,\\' Delhi Airport was the first Indian airport to make \\'single-use plastic-free\\' commitment in 2019. With the use of eco-friendly sustainable alternatives, it has significantly reduced its plastic waste generation. Some plastic items that are exempt from the list of banned items include security tamper-evident bags, sealed PET bottles, pre-packaged materials from manufacturers meant for sale and compostable plastic bags. Delhi Airport is a leading Indian airport both in passenger and cargo capabilities with annual traffic of 68.5 million passengers per annum in 2019. This story has been published from a wire agency feed without modifications to the text. Only the headline has been changed. Click here to read the Mint ePaperLivemint.com is now on Telegram. Join Livemint channel in your Telegram and stay updated',\n",
              " ' Sudan has agreed to hand ousted autocrat Omar al-Bashir and others to the International Criminal Court for alleged war crimes in Darfur, a member of Khartoum\\'s ruling body said Tuesday. The Hague-based ICC has charged Bashir and three of his former aides with genocide, crimes against humanity and war crimes in Sudan\\'s western region during a brutal conflict from 2003. \"Those who have been indicted by the ICC, they have to go there,\" Mohamed Hassan Al-Taishay, a member of the ruling sovereign council said, without mentioning their names. His remarks, quoted in a statement issued by the sovereign council in Khartoum, came as a government delegation met rebel groups in the South Sudanese capital of Juba. Omar al-Bashir refuses to deal with ICC as it is a \"political court\", said his lawyer Taishay said the talks focused on justice and reconciliation in Darfur, where the United Nations says about 300,000 people have been killed and millions displaced since the conflict erupted. Taishay said they had agreed several mechanisms for achieving peace in the region. \"First, all those who have been indicted by the ICC should appear before the ICC,\" he said. \"Second, a special court be set up to investigate crimes committed in Darfur.\" The conflict in Darfur, the size of France, erupted when ethnic minority African rebels took up arms against Bashir\\'s then Arab-dominated government, accusing it of marginalising the region economically and politically. The ICC has charged Bashir with genocide, war crimes and crimes against humanity for his role in the conflict. It has also indicted three of his former aides, Ahmed Haroon, Abdulrahim Mohamed Hussain and Ali Kushied. \"We cannot achieve justice unless we treat the suffering of the victims because this is a truth that we can\\'t escape from,\" Taishay said. \"In Darfur, crimes against humanity and war crimes have been committed.\" Bashir has denied the charges. Bashir was ousted by the army in a palace coup last April after months of protests against his iron-fisted rule of three decades. He was detained following his ouster and has since been jailed on corruption charges. Anti-Bashir protesters, residents of Darfur and rebel groups from the region have consistently demanded that the ousted ruler be handed over to the ICC. For years before his ouster and despite the ICC indictments, Bashir had regularly visited regional countries as well as Russia and China. Days before the protests erupted in December 2018, he visited Syria\\'s President Bashar al-Assad in Damascus, becoming the first Arab leader to do so since the Syrian conflict began in 2011. In 2018, Bashir helped broker a tentative peace deal in South Sudan after five years of intense conflict in the world\\'s newest country, which won independence from Khartoum in 2011. This story has been published from a wire agency feed without modifications to the text. Only the headline has been changed. Click here to read the Mint ePaperLivemint.com is now on Telegram. Join Livemint channel in your Telegram and stay updated',\n",
              " ' Astronauts on the International Space Station have baked the first cookies in space, but they took far longer than on Earth. The space station\\'s Italian commander Luca Parmitano acted as baker aided by NASA astronaut Christina Koch for the chocolate-chip cookie experiment. Cookies take around 15-20 minutes to bake on Earth but the astronauts discovered that their most successful efforts required at least two hours in the oven in space. The first and second cookies were in the oven for 25 minutes and 75 minutes but were still under-baked. The best results came from 120 and 130 minutes in the oven. \"We made space cookies and milk for Santa this year,\" Koch tweeted. The prototype oven which can be used in microgravity was designed and built by Nanoracks and Zero G Kitchen while the Double Tree by Hilton hotel chain supplied the raw cookie dough. \"The ISS smelled like fresh chocolate chip cookies when @astro_luca opened the oven door! Just like home!\" Nanoracks tweeted. \"While we have initial visual and scent feedback from the crew aboard the ISS, we\\'re excited to dive into fully understanding the baking results -- including breaking down why the bake time and temperature in space varies from what we are used to seeing on Earth,\" Mary Murphy, a Nanoracks payloads manager, said in a statement from Hilton. While the astronauts said they looked and smelled like cookies, no one has tasted them. Three of the cookies returned to Earth on the SpaceX Dragon spacecraft on January 7 and will undergo testing by food scientists to determine if they are edible. \"Currently on the International Space Station there\\'s really a limited ability to prepare foods in ways that we\\'re used to,\" Zero G Kitchen founder Ian Fichtenbaum said in a video posted by Hilton. \"And now as longer duration space flight is more common you want to focus on making space more comfortable,\" added co-founder Jordana Fichtenbaum. Click here to read the Mint ePaperLivemint.com is now on Telegram. Join Livemint channel in your Telegram and stay updated',\n",
              " ' NEW DELHI : Retail company Lifestyle International-India, part of Dubai-based retail and hospitality conglomerate Landmark Group—that runs popular formats such as Lifestyle, Max, and Home Centre in India—on Wednesday announced the exit of Vasanth Kumar as the head of company\\'s India operations. Kumar will be transitioning from his full-time role as managing director, Lifestyle International Pvt Ltd., effective June 30, 2020, the company said in a statement on Wednesday. The company did not immediately announce a successor to Kumar—who has spent 15 years at the retailer scaling various formats such as value fashion retail chain Max here. Kumar will continue to support the company until a suitable successor is appointed and inducted in this position, the company said. Kumar was appointed as managing director of Lifetsyle International in 2017, replacing Kabir Lumba who was then appointed as chief executive officer of Max, and a director of the parent company in Dubai. In India, Lifestyle International Pvt. Ltd started operations in the late 90s with its maiden Lifestyle department store in Chennai. The company today has over 400 stores in 130 cities in India across its Lifestyle department store, Home Centre, Max, and Easybuy retail formats. \"In the last two years, he (Kumar) has driven the consolidation and growth of Lifestyle and Home Centre, significantly,\" said H. Ramanathan, chairman of the board, Lifestyle International Pvt Ltd-India. \"In due course, we shall announce the successor to this position,\" he added. Kumar said he was stepping away to rebalance his personal commitments and professional aspirations. Lifestyle International is part of Dubai-based Landmark Group, founded by former taxi driver-turned-billionaire Micky Jagtiani. The group has interests in retail, hospitality, and shopping malls across the Middle East and India. It runs fashion departmental store Lifetsyle, hypermarket format Spar, apart from fashion brands Max, Splash, kids retail format Babyshop among others. Click here to read the Mint ePaperLivemint.com is now on Telegram. Join Livemint channel in your Telegram and stay updated',\n",
              " ' India needs to consolidate its finances by curbing expenditure and boosting taxes to trim its debt, the International Monetary Fund said. “A credible medium-term fiscal consolidation path driven by subsidy-spending rationalization and tax-base enhancing measures is needed to reduce debt, free up financial resources for private investment, and reduce the interest bill,\" the Washington-based fund said in a staff report following its latest regular review of the economy, known as an article IV consultation. The IMF, which estimates India’s economy will expand 6.1% in the year through March, is set to reduce the prediction amid continuing weakness signaled by a decrease in rural consumption and lower business sentiment, Chief Economist Gita Gopinath said in an interview last week. The central bank recently cut its full-year GDP expansion forecast to 5% from 6.1%, after quarterly growth slowed to a six-year low. Last month, Moody’s Investors Service reduced the nation’s credit-assessment outlook to negative, citing issues ranging from a worsening shadow banking crunch and a prolonged slowdown in the economy to rising public debt. The ratings company is projecting a budget deficit of 3.7% of GDP in the year through March, a breach of the government’s 3.3% target. Other Highlights This story has been published from a wire agency feed without modifications to the text. Only the headline has been changed. Click here to read the Mint ePaperLivemint.com is now on Telegram. Join Livemint channel in your Telegram and stay updated',\n",
              " ' A thick blanket of fog engulfed Delhi and its surrounding areas today morning affecting the air, rail and road traffic. The flight operations at the Indira Gandhi International (IGI) Airport have been affected due to bad weather. \"Due to bad weather, flight operations at Delhi airport are affected. While takeoffs and landings continue, some flights are impacted due to crew operational limitations,\" airport authorities tweeted. The airport authorities have requested the passengers to contact the airline concerned for updated flight information. \"Any inconvenience caused is regretted,\" it added. Update issued at 0700 hours: pic.twitter.com/2OFfnW6tB5 Budget carrier IndiGo has asked passengers to check flight status before leaving for the airport as due to poor visibility in Delhi, flight departures and arrivals might be impacted. For flight status visit https://t.co/TQCzzy2a2s or send an SMS ST <flight no.><flight date> as DDMM, e.g. For 6E-333 on Dec 20, send ST 333 2012 to 566772. For assistance, contact us on Twitter/Facebook or chat with us at https://t.co/MLOVgXpFO0 pic.twitter.com/uyA2xJY3SH Another airline, GoAir also issued an advisory requesting all customers to check their flight status either by sending an SMS G8 Flight No. to 57333 or calling at 18602100999. #GoAlert: Due to bad weather (poor visibility) at #Delhi, all flights to and from #DEL may get affected. We request all our customers to check their flight status. SMS G8 Flight No. to 57333 to know the status of your flight or call us at 18602100999. \"Due to bad weather at Delhi, all departures/arrivals and their consequential flights might get affected,\" SpiceJet tweeted. #WeatherUpdate Due to bad weather (Poor Visibility) at Delhi (DEL), all departures/arrivals and their consequential flights might get affected. Passengers are requested to keep a check on their flight status via https://t.co/u9dvEZRAK7. On Thursday, IndiGo had cancelled around 19 flights departing from Delhi, while full-service carrier Vistara said its flights were delayed amid escalating protests against the Citizenship Amendment Act. According to the India Meteorological Department (IMD), the minimum and maximum temperatures of the capital will hover around 8 degrees Celsius and 19 degrees Celsius. For the next two days, the sky will generally be cloudy with light rain or drizzle. Click here to read the Mint ePaperLivemint.com is now on Telegram. Join Livemint channel in your Telegram and stay updated',\n",
              " ' BENGALURU : A first of its kind entertainment destination is coming up at Kempegowda International Airport (KIA) here, which will be developed in the next two years with an initial investment of ₹100 crore. The entertainment arena on 6.3 acres is being developed by a consortium of Phase 1 Experiences and Embassy Group in consultation with leading live entertainment company Live Nation,the organisers said at a press conference on Wednesday. They said music entrepreneur and festival curator Nikhil Chinapa will take on his role as strategy and communications lead. Phase-1 Experiences founder and Managing Director Oum Pradutt said they were awarded the tender, floated by the Bangalore International Airport Limited (BIAL). \"BIAL is pleased to announce the partnership with two market leaders in their respective areas of expertise. This is a significant stepping stone towards making the BLR Airport a hub of entertainment, not just for Bengaluru, but for the entire country, he said. This arena would be a first-of-its-kind to be created at an airport and the first multi-purpose venue in India to host events and other activity. This brings to life a new facet in BIALs commitment to offer unparalleled services to passengers and visitors, alike, said Rao Munukutla, Chief Real Estate Officer, BIAL. Pradutt said The venue will be on par with iconic international concert arenas such as New Yorks Madison Square Garden and Londons O2 Arena, enabling us to import the biggest shows and best of global talent to India. This will attract audiences and fans from not just across India, but across South Asia, and establish Bengalurus position as a live concert and entertainment capital globally.\" The Chief Operating Officer of Embassy Group, Aditya Virwani said the first-of-its-kind, international arena at KIA will place the city on the global map as a destination for prestigious events. Embassys development expertise in building world-class assets will bring about an iconic project in association with the BIAL and Phase-1 Experiences, he added. Click here to read the Mint ePaperLivemint.com is now on Telegram. Join Livemint channel in your Telegram and stay updated',\n",
              " \" MUMBAI : The country's foreign exchange reserves surged by $2.342 billion to touch a life-time high of $453.422 billion in the week to December 6, according to the RBI data. In the previous week, the reserves had increased by $2.484 billion to USD 451.08 billion, the weekly data released by the Reserve Bank on Friday showed. In the reporting week, the rise in reserves was mainly on account of an increase in foreign currency assets, a major component of the overall reserves, which surged by $1.891 billion to $421.258 billion, according to the data. Expressed in dollar terms, the foreign currency assets include the effect of appreciation or depreciation of non-US units like the euro, pound and the yen held in forex reserves. During the reporting week, gold reserves increased by $430 million to$27.078 billion. The special drawing rights with the International Monetary Fund was by$5 million to $1.441 billion during the week. The country's reserve position with the International Monetary Fund also increased by $15 million to $3.644 billion, the data showed. Click here to read the Mint ePaperLivemint.com is now on Telegram. Join Livemint channel in your Telegram and stay updated\",\n",
              " ' CAPE CANAVERAL : SpaceX made an early holiday delivery to the International Space Station on Sunday, dropping off super muscular \"mighty mice,\" pest-killing worms and a smart, empathetic robot. The station commander, Italy\\'s Luca Parmitano, used a large robot arm to grab onto the Dragon three days after its launch from Cape Canaveral. The two spacecraft soared 260 miles (420 kilometers) above the South Pacific at the time of capture. \"Whenever we welcome a new vehicle on board, we take on board also a little bit of the soul of everybody that contributed to the project, so welcome on board,\" Parmitano told Mission Control. The capsule holds 3 tons (2,720 kilograms) of supplies, including 40 mice for a muscle and bone experiment. Eight of them are genetically engineered with twice the normal muscle mass — and so are considered \"mighty mice.\" There also are 120,000 roundworms, or nematodes of a beneficial variety that are part of an agricultural study aimed at controlling pests. The capsule also has a large, round robot head with artificial intelligence and the ability to sense astronauts\\' emotions. Named Cimon, it\\'s an improved version of what flew up last year to be tested as an astronaut\\'s helper. NASA has tucked some Christmas presents in the shipment for the station\\'s six-person crew, as well. It\\'s SpaceX\\'s 19th delivery to the orbiting outpost for NASA over the past seven years. The astronauts have another delivery coming Monday — this one launched by Russia from Kazakhstan on Friday. Click here to read the Mint ePaperLivemint.com is now on Telegram. Join Livemint channel in your Telegram and stay updated',\n",
              " ' BENGALURU : The Kempegowda International Airport here commenced operations on the new South Runway with the landing of the first flight on the 4,000-metres long and 45-metres wide airstrip on Friday. This makes the BLR Airport the first in the country to operate independent parallel runways, enabling aircraft to land or take-off simultaneously on both runways, it said in a statement. \"It is a historic day for us at BLR Airport as we commenced operations on the new runway,\" said Hari Marar, MD & CEO, Bangalore International Airport Limited, operator of the BLR Airport. Our first runway opened 11 years ago, and became a linchpin for the region\\'s economic development during the last decade. With the aviation industry in India set for exponential growth, two operational runways will provide the thrust required to cater to this demand and further bolster growth of Karnataka and India\", he said. The South Runway will begin with limited landings and take offs before gradually scaling up flight operations. The runway will initially have CAT I certification, and, as operations stabilise, will progressively manage CAT III B operations, enabling landing and takeoff in extremely low visibility conditions, it was stated. Click here to read the Mint ePaperLivemint.com is now on Telegram. Join Livemint channel in your Telegram and stay updated',\n",
              " ' MUMBAI : Private equity firm Advent International and Singapore’s state investment arm Temasek on Tuesday sold shares worth ₹1,275 crore in consumer durables maker Crompton Greaves Consumer Electrical. According to data from stock exchanges, Advent sold 32.29 million shares while Temasek sold 18.85 million shares, which were all sold at a price of ₹249.2 apiece. The share sale represents about 8.15% shareholding these investors held in the company. Before the sale, the two held a 34.36% stake in Crompton Greaves. Advent International and Temasek had acquired the Crompton stake in 2015 paying around ₹2,000 crore. The stake was bought from Avantha Holdings Ltd, the holding company of Crompton Greaves Consumer Electricals. Shares were bought by several institutional investors such as HDFC Life Insurance Co. Ltd, Norges Bank, SBI Mutual Fund, funds managed by Fidelity and a few other investors, data shows. On Tuesday, shares of Crompton Greaves closed at ₹246.20 apiece, down 2.19% on the BSE, while the benchmark Sensex closed at 40,675.45 points, down 0.31%. Click here to read the Mint ePaperLivemint.com is now on Telegram. Join Livemint channel in your Telegram and stay updated',\n",
              " ' Kathmandu/Lumbini: Four and a half years after a devastating earthquake in April 2015 ravaged Nepal, the small hilly nation aims to reclaim its standing on the world tourism map with plans to attract Buddhist pilgrims from India, Bhutan, Myanmar and Sri Lanka, besides countries like Japan, with a spanking new international airport close to the birthplace of Buddha. Potential economic spinoffs of the plan include new investments in tourism infrastructure such as hotels, which in turn is expected to spur employment generation in a country described as one of the poorest and slowest growing in Asia by the World Bank. Christened the Gautam Buddha International Airport, the facility is being developed with financial assistance from the Manila-based Asian Development Bank (ADB). China’s Northwest Civil Aviation Construction Group is constructing the airport for which the ADB has provided $70 million. The airport is being developed under the South Asia Tourism Infrastructure Development Project. It is expected to be completed by March next year, ahead of the fifth anniversary of the temblor that killed some 9,000 people, said Prabhesh Adhikari, a senior official of the Civil Aviation Authority of Nepal. Situated in Rupandehi district, some 280 kilometres from Kathmandu, the upcoming airport will function as a second gateway to the country, which is home to the some of the world’s tallest mountains, catering to tourists wanting to visit Lumbini. India, Sri Lanka, Thailand and Cambodia have already expressed interest in starting airline operations from the upcoming airport, said Naresh Pradhan, the ADB official overseeing the airport project. “You know Mecca (in Saudi Arabia) – 12 million tourists come there every year (to perform the Hajj pilgrimage). It is a very important Muslim religious site,\" said Suraj Vaidya, national coordinator of the Nepal Tourism Board’s “Visit Nepal 2020\" campaign that was rolled out in April this year. Pointing out that Nepal was home to Lumbini, the famed birth place of the founder of Buddhism, Vaidya said in 2020, “we plan to have the biggest and the best organised Buddha Jayanti (marking the birth anniversary of Buddha).\" According to official statistics, 11.73 lakh tourists visited Nepal in 2018. Of this, nearly 2 lakh were Indians, 69,640 from Sri Lanka and 26,355 were from Bangladesh. Developing the Gautam Buddha International Airport was also aimed at diversifying tourism to other parts of the country that has so far remained concentrated in central Nepal, Vaidya said. “It is very sad to see people from your country go abroad and work very hard and send back money. We need to create new investments and we need to create more jobs. And for Nepal one of the biggest challenges we have is how to keep our young Nepalese in this country. The place to employ young dynamic people is tourism. Developing tourism is part of the national economic strategy to get Nepal back on track\" after the April 2015 earthquake, Vaidya said. Besides Buddhist pilgrims, Nepal is also hoping to woo Hindu pilgrims from India in a big way. There are plans to celebrate “Bivah Panchami\"—the marriage of the Hindu deity Ram and goddess Sita in Janakpur as part of “Visit Nepal 2020,\" said Vaidya, adding that he had met Uttar Pradesh Chief Minister Yogi Adityanath to discuss plans for a joint celebration of the festival next year. India and Nepal already have a bus link from Janakpur, the birthplace of Sita to Ayodhya, where god Ram is believed to have been born. “We are also working with other states including Bihar on developing tourism potential which can be win-win for both the countries,\" Vaidya said. There were also plans to develop a tour involving holy sites related to the Hindu god Lord Shiva also as part of the Visit Nepal 2020 campaign, he added. At present, the Tribhuvan International Airport (TIA) in Kathmandu is Nepal’s only international airport. The risk of having just one international airport was felt acutely at the time of the April 2015 quake, officials said. The temblor spared the TIA which was used to its fullest capacity to receive international aid. “If the TIA was affected by the quake, we would not have been able to get relief and aid to the people as fast as we did,\" said civil aviation official Adhikari. “We do have days when aircraft cannot land at the TIA due to bad weather,\" he said. A second international airport in the Terai plains of Nepal would also help improve the economy of the region resulting in greater employment generation, Adhikari said. According to ADB’s Nepal country director, Mukhtor Khamudkhanov, Gautam Buddha International Airport is part of several connectivity projects that the international financial institution is supporting to bolster regional economic activity. Last year, the ADB had approved $180 million under the South Asia Subregional Economic Cooperation (SASEC) programme for widening the East-West Highway connecting India, Khamudkhanov said. Besides roads and airports, SASEC also includes plans to develop ports and railroads to match the needs of countries in the region -- Bangladesh, Bhutan, India, Maldives, Myanmar, Nepal, and Sri Lanka. Click here to read the Mint ePaperLivemint.com is now on Telegram. Join Livemint channel in your Telegram and stay updated',\n",
              " ' New Delhi: As many as 10 flights of GoAir are running late from Delhi Airport, due to non-availability of the cockpit crew, said Indira Gandhi International Airport official. GoAir sources said that \"We have reported delay of some flights as cockpit crew\\'s Flight Duty Time Limitations (FDTL) is over, we are arranging other crew for the operations.\" Airlines have found that FDTL issues occurred because of sudden bad weather in some sectors where the crew were stranded for up to four hours. This story has been published from a wire agency feed without modifications to the text. Only the headline has been changed. Click here to read the Mint ePaperLivemint.com is now on Telegram. Join Livemint channel in your Telegram and stay updated',\n",
              " ' BENGALURU : Marriott International, Inc and real estate firm Prestige Group have partnered to open five new hotels in southern India, which will help both the firms expand their hospitality footprint in the country. As per the agreement, Prestige Group will build new hotels across Marriot brands such as the W, Tribute Portfolio and Moxy spanning 1,000 rooms. The hotel properties- W Bengaluru, Tribute Portfolio Resort Bengaluru, Tribute Portfolio Hotel Kochi Maradu, Moxy Chennai and Moxy Bengaluru- are expected to open between 2021 and 2025. Four of the five hotels would be part of retail developments like shopping malls. Marriott, which operates under its many brands, will launch ‘Moxy’ in the country, a mid-scale brand which is targeted at the millennial population, said Rajeev Menon, President - Asia Pacific (excluding Greater China), Marriott International. “…Our portfolio of 120 hotels across 16 brands reinforces our commitment to India, which remains a key focus market for Marriott International. We are thrilled to be introducing Moxy, our 17th brand in South Asia,\" said Menon. By the end of the year, Marriott would have around 25,000 hotel rooms in the country. The partnership with Marriott gives Bengaluru-based Prestige an opportunity to diversify its asset base and further expand its rental portfolio, which also includes office and shopping mall projects. “…We believe that strategic collaborations with the right partners facilitate dynamic disruptions. With this signing, the Prestige Group is poised to become one of the largest hospitality players in India,\" said Irfan Razack, chairman and managing director, Prestige Group. Prestige aims to have 3,100 hotel rooms in its portfolio in four years. Razack said that hotel assets add value to developments like shopping malls or mixed-use projects. “They allow developers to cash in on the additional FSI (floor space ratio) in the upper floors,\" he said. Click here to read the Mint ePaperLivemint.com is now on Telegram. Join Livemint channel in your Telegram and stay updated',\n",
              " ' New Delhi: Due to increasing passenger frequency at T3 terminal of the Indira Gandhi International (IGI) airport and thorough frisking by security officials during peak morning hours, flyers are making their way to the airport much before the scheduled take-off to avoid any delay or missing their flights. There has been a sudden rush in the number of passengers at T3 ever since SpiceJet and IndiGo shifted some of their domestic flights and took over the slots vacated by Jet Airways in this terminal. Sources said that around 16,000 domestic passengers have undergone security frisking by the CISF between 5 am to 9 am. Last week, the Ministry of Civil Aviation had tweeted, \"SpiceJet and IndiGo have taken over the slots vacated by Jet Airways at IGIA\\'s T3. However, the number of flights they have shifted to T3 is far less than the number Jet earlier operated from T3. Issue of traffic jam on the ramp is due to a heightened security alert.\" Meanwhile, GMR-led Delhi International Airport Ltd (DIAL) on Monday announced the enhancement of metro check-in facility for the passengers of three more airlines. Passengers of AirAsia, GoAir (international flights) and SpiceJet flying out of T3 can obtain their boarding passes at the metro check-in counters set up near the entrance of New Delhi metro station. The service has been extended by DIAL in collaboration with Delhi Metro Rail Corporation (DMRC) as a part of its effort to provide an enhanced experience to its domestic and international passengers. The service is currently available for the flyers of Air India and Vistara. Click here to read the Mint ePaperLivemint.com is now on Telegram. Join Livemint channel in your Telegram and stay updated',\n",
              " ' Mumbai: US private equity (PE) firm Advent International Corp. on Monday said it has acquired a controlling stake in Bharat Serums and Vaccines Ltd, a leading maker of injectable biological and pharmaceutical products. The company operates in women’s healthcare, assisted reproductive treatment, critical care and emergency medicine in India and emerging markets. While financial details of the deal were not disclosed, Mint had reported first on 9 April that promoters of Bharat Serums were in initial talks with PE firms to sell a controlling stake for around $500 million, and had approached Advent for the same. Monday’s deal provides a complete exit to the company’s existing investors—PE firms OrbiMed Advisors Llc and Kotak PE. The Daftary family, the promoters of the company, will continue to hold a “meaningful stake\", a company statement said, without elaborating. The company, which has three manufacturing plants in Maharashtra, has its products registered in more than 45 countries. It employs around 1,000 people across locations in India and overseas. Its efforts on new drug discovery and research and development (R&D) in the past few years have met with limited success. It had also formed a joint venture (JV) with drug maker Zydus Cadila to develop cancer drugs. However, the JV ended in 2015 after Zydus Cadila bought over Bharat Serums’ stake in the business. Bharat Serums competes with Serum Institute of India, which is controlled by the Poonawalla family and is one of the world’s largest manufacturers of vaccines. The transaction indicates the rising interest of PE funds to undertake control deals in India to ensure that they can drive decisions, strategy and corporate governance in their portfolio companies. At the same time, Indian promoters have also become more willing to cede control to a financial partner to boost growth. When Kotak PE invested in the company in 2012, it had a revenue of just ₹80 crore ($12 million), which increased to around ₹700 crore ($100 million) in FY19. However, the second generation of the family is not too keen to run the business and have been wanting to exit it altogether. The company has seen a number of PE suitors over the years, including The Carlyle Group, US drug maker Mylan Inc., Baring Private Equity, as well as domestic pharmaceutical company Cadila Healthcare. Advent has been an active buyout firm in India, most recently acquiring lingerie brand Enamor for ₹320 crore. The deal gave an exit to Enamor’s investors India Alternatives and Faering Capital. Its other acquisitions include Manjushree Technopack Ltd for approximately ₹2,440 crore from promoters Vimal Kedia and PE firm Kedaara Capital Investment Managers Ltd in 2018, and Dixcy Textiles Pvt. Ltd, the south Indian firm that sells innerwear brand Dixcy Scott, in 2017. In September this year, it also acquired a majority stake in DFM Foods Ltd from its promoters and existing investors, including WestBridge Capital, for about ₹852 crore. “Drawing on our deep experience in pharmaceuticals and our global platform, we see significant opportunity to further strengthen the company’s leadership position in India, particularly in women’s health, and scale its presence in emerging markets around the world,\" said Shweta Jalan, managing director and head of India at Advent International. “Advent’s high level of investment activity in India this year demonstrates the attractiveness of the market and our commitment to investing here. We are thrilled to partner with Advent and continue Bharat Serums and Vaccines’ journey to deliver innovative and specialized products,\" said Bharat V. Daftary, a member of the founding family of Bharat Serums and Vaccines. “Our business has demonstrated consistent product innovation and revenue growth, and with this partnership we will seek to further expand our presence in select large emerging markets,\" he added. Click here to read the Mint ePaperLivemint.com is now on Telegram. Join Livemint channel in your Telegram and stay updated',\n",
              " ' NEW DELHI : Fair trade regulator CCI on Thursday approved Adani Properties\\' acquisition of 23.5% stake in the country\\'s second busiest aerodrome Mumbai International Airport. Adani Properties has acquired the shares from Mauritius based Bid Services Division and ACSA Global Ltd. As per the combination notice filed with CCI, the transaction involves acquisition of shares through two separate share purchase agreements. While Adani is buying 13.5% stake in Mumbai International Airport from Bid Services Division, the rest 10% has been acquired from ACSA, as per the notice said. In a separate tweet, Competition Commission of India (CCI) said it \"approves merger of the BNP Paribas Mutual Fund and the Baroda Mutual Fund\". Bank of Baroda and BNP Paribas Asset Management in a joint statement in October had said they entered into binding agreements. The strategic alliance would allow both companies to leverage each other\\'s strengths to offer products specially designed for retail and institutional clients in India, they had said. Baroda Asset Management is a wholly-owned subsidiary of Bank of Baroda, while BNP Paribas Asset Management India is an entity of BNP Paribas Asset Management Asia. The regulator has also given nod to \"secondary acquisition of additional 3.28% of the issued and paid up share capital of Delhivery Private Limited by SVF Doorbell (Cayman) Ltd\". In February 2019, CCI had approved SVFD\\'s subscription to compulsorily convertible preference shares amounting to 22.44 per cent of the total shareholding of DPL (Delhivery Pvt Ltd) on a fully diluted basis. \"Accordingly, subsequent to the investment, SVFD will hold up to approximately 25.72% the issued and paid up share capital of DPL on a fully diluted basis,\" CCI said. Further, in another tweet, the regulator approved \"subscription to securities of Ecom Express Private Limited by CDC Group plc\". CDC is a development finance institution, wholly owned by the UK government, which provides scarce and patient capital to private sector entrepreneurs in developing countries, the combination notice said. Besides, Ecom Express is engaged in third party logistics services including delivery services and e-KYC facilitation for the customers of banks, NBFCs and other companies that require such services among others, it added. Click here to read the Mint ePaperLivemint.com is now on Telegram. Join Livemint channel in your Telegram and stay updated',\n",
              " ' Supply of anti-rabies vaccine in India got a shot in the arm on Wednesday as one of its largest manufacturers in India, Chiron Behring Vaccines, has re-launched the immunization shot under a new brand -- ChiroRab. The vaccine will be manufactured at Chiron Behring\\'s facility at Ankleshwar in Gujarat. Bharat Biotech International had acquired Chiron Behring Vaccines from GlaxoSmithKline Asia in March, and restarted the plant in May. Earlier, when GSK owned Chiron Behring, the anti-rabies vaccine was sold under the brand \\'Rabipur\\' and commanded a lion’s share of the market, especially in the private market. ‘ChiroRab’ will be manufactured using the same technology at the same site. The relaunch offers respite to millions of victims of animal bites, especially those suffering from dog bites. India has been facing an acute shortage of anti-rabies vaccines over the last few months primarily due to shutdown of the Chiron Behring plant in Ankaleshwar for nearly two years prior to that. The current capacity of the Chiron Behring plant is around 12 million vaccines per annum, and the company plans to expand it to 15 million in a few months, Bharat Biotech chairman and managing director Krishna Ella said. Bharat Biotech also manufactures around 15 million anti-rabies vaccines annually, which it sells under the brand ‘IndiRab’ through government tenders. Bharat Biotech has no plans to expand its own plants, Ella said. To resolve the shortage of anti-rabies vaccine on an immediate basis, Chiron Behring has released 325,000 dosages of the vaccine, and has also made submissions to the government of releasing another 875,000 doses of its vaccine from testing, Chiron Behring chief operating officer and site director Pradip Patel said. “We plan to increase the capacity of the plant to 21 million dosages annually by 2021,\" Patel said. Patel, though, said Chiron Behring will export around 40% of their products to other countries in Asia, Africa and Latin America. It will also be made available in government hospitals through tenders as well as the private market, the company said in a release. Many hospitals across the country have been in the grip of a severe shortage of anti-rabies vaccine over the last few months. The situation has been dire for most hospitals, be it Delhi’s central-government run Safdarjung Hospital or state or private ones. Apart from the shutdown at Chiron Behring’s plant, the shortage was exacerbated by closure of various vaccine manufacturers in China by the country’s government last year, while some industry experts even cited price control as a structural flaw which made the vaccine market unattractive for major investment. Both ‘ChiroRab ‘ and ‘IndiRab’ are priced at ₹351 per dose, company officials said. The situation was so dire that at one point the Centre considered banning export of the vaccines in India. However, the government decided against it later when Bharat Biotech’s subsidiary Chiron Behring started production. Apart from Chiron Behring, Indian Immunologicals is also working on increasing capacity at current plants and a new plant should also start production by December 2020. Indian Immunologicals is a major supplier in government tenders. “The relaunch of Chiron Behring’s vaccine may help resolve immediate shortage of anti-rabies vaccine in India as shutdown of their plant was one of the major factors for the problem. Even the supply of 3 lakh dosages immediately would fill the gap and give some relief from this shortage,\" Omesh Kumar Bharti, an epidemiologist at Himachal Pradesh Health Department, said. Rabies is a major public health problem in India, endemic throughout the country with the exception of Andaman & Nicobar and Lakshadweep Islands, and kills an estimated 20,000 people annually, according to the National Health Portal. Click here to read the Mint ePaperLivemint.com is now on Telegram. Join Livemint channel in your Telegram and stay updated',\n",
              " ' Kolkata: The fifth edition of India International Science Festival began here today, with students attempting to create four Guinness World Records dedicated to noted scientists who were pioneers in their field of research. The four-day event is organized annually by Ministry of Science and Technology along with Vijnana Bharti (VIBHA) to highlight India’s contribution to the science and technology. The theme for this year’s festival is \\'RISEN\\' India – Research, Innovation, and Science Empowering the Nation. The first record, assembly of spectroscopes, has been dedicated to noted astrophysicist Meghnad Saha. Over 1,750 students will participate in it. Spectroscopes are used to get gather data about what stars or other celestial objects are actually made of- their temperature and chemical composition and Saha\\'s research led to major findings in the domain. Second record is the largest assembly of optical media communication units at a single location. This would be attempted by over 950 students and is dedicated to CV Raman for his ground breaking work on light scattering and Satyendra Nath Bose, for his breakthrough work on theoretical physics. The third record for most people assembling Radio kits simultaneously will be attempted on November 7. It will see a participation of over 400 students, and is dedicated to J C bose, who was first behind the science to capture radio waves. Students will also attempt to form the largest human image of a human chromosome on the final day with the participation of over 400 students. Additionally, the four-day long science festival would witness as many as 28 events including health science conclave, agricultural scientists meet and Vigyanika- science literature festival. Scientists and young researchers from various institutes across the country are participating in the festival. A women scientists’ conclave will also be organised. \"Our primary goal is to expose young minds to the deep mysteries of the universe and various facets of its evolution, so as to encourage them to take up science as a career option and contribute to the nation\\'s intellectual capital and growth,\" said Professor Ashutosh Sharma, Secretary, Department of Science & Technology. An exhibition - \\'Vigyan Samagam\\' has also been put covering the journey of science from discovery of the Higgs particle to that of gravitational waves and merger of neutron stars and black holes. Some of the projects throw light on crucial questions related to the origin of the Universe and its evolution through its various stages. It will remain open in Kolkata till 31 December. Click here to read the Mint ePaperLivemint.com is now on Telegram. Join Livemint channel in your Telegram and stay updated',\n",
              " ' NEW DELHI : International Solar Alliance (ISA), the first treaty-based international government organization headquartered in India is a ‘political project’, said France’ ecology and inclusive transition minister Brune Poirson on Thursday. This comes in the backdrop of the US withdrawal from the Paris climate deal and China’s attempts to co-opt countries into its ambitious One Belt One Road initiative, a programme to invest billions of dollars in infrastructure projects, including railways, ports and power grids, across Asia, Africa and Europe. “What we mean is that more than ever France and India need to work together to actually combat climate change...Cleanly, the US is about to leave the Paris agreement. We can only regret it. We think its a bad decision. However, it gives us hope that we have very strong partners such as India who have decided that they will actually not stop fighting,\" Brune Poirson said in response to a Mint’s query. With India and France front-ending the attempts to set up the ISA, it has become India’s calling card on climate change and is increasingly being viewed as a foreign policy tool. “In this context it means that the International Solar Alliance is really a political project. It is about showing that some countries around the world not only care about climate change but also do things concretely on the ground to tackle the issue of climate change. And I think its particularly important to have that sort of partnership both with France and India and more globally,\" Poirson added. India’s power and new and renewable energy minister Raj Kumar Singh was quick to state that ISA shouldn’t be seen in the context of international political relations. “When you talk about political deals it means that this is something which is important for the people of the world,\" Singh said. India is also planning a global electricity grid that may initially aim to link countries such as Myanmar, Thailand, Cambodia, Laos, and Vietnam with the Indian sub-continent, as part of an evolving energy security architecture. Speaking at the second general assembly of the ISA being held in New Delhi from 30 October—2 November, Brune Poirson lauded India’s efforts in the solar energy field and it being a leader. Initially, ISA envisaged 121 sunshine countries situated between the tropics of Cancer and Capricorn as its members. Prime Minister Narendra Modi had pitched for a global electricity grid while inaugurating the first general assembly of the ISA in October 2018. He had also announced the “universalization\" of membership with India moving the proposal to make all United Nations members eligible for ISA membership in the assembly. “The cost of solar energy has reached a record low. It is very optimistic,\" Poirson said and added, “ISA’ goal is to lowering the cost of solar energy investments.\" India has witnessed a record low solar tariffs of Rs2.44 per unit. Of the targeted 175GW of clean energy capacity by 2022, 100GW is slated to come from solar projects. Of this, 60GW will be from ground-mounted, grid-connected projects, and 40GW is to come from solar rooftop projects. ISA is also leveraging the demand from the member countries to reduce costs by aggregating the demand from member nations and then call for tenders. To start with, this approach is being explored for bringing down the cost of solar powered agricultural pumps and solar photo-voltaic (PV) modules. According to ISA, 24 member countries have submitted their off-grid and distributed solar energy needs valued at around $5.1 billion. Of these solar pumps account for around $2.7 billion. Interestingly, India has pitched ISA as a counterweight to Vienna-based Organization of the Petroleum Exporting Countries (Opec), with the fossil fuel consumers calling for a global consensus on “responsible pricing\" against the backdrop of escalating tensions in the Persian Gulf post the 14 September drone attacks on Saudi Arabian Oil Company or Saudi Aramco’s facilities that caused the biggest ever-disruption in global crude oil supplies. ISA has 89 countries as signatories to the ISA framework agreement. A total of 29 member countries are attending the second general assembly. Of the $ 2 billion earmarked by India for solar projects in Africa out of Government of India’s $10 billion concessional Line of Credit (LOC) for the African continent, around $1.4 billion worth of projects has already been signed and committed, said Singh. This is being implemented by the Exim Bank of India in coordination with ISA member countries from Africa. “We will make additional Line of Credit available,\" Singh said. In addition, India has earmarked a fresh Line of Credit of $350 million for the Pacific island countries and a grant of $150 million. This comes at a time when India has emerged as a clean energy champion. India, the biggest emitter of greenhouse gases after the US and China, has been pushing for a clean energy fuelled economy. India plans to reduce its carbon emissions by 33-35% from its 2005 levels by 2030, as part of its commitments to the United Nations Framework Convention on Climate Change adopted by 195 countries in Paris in 2015. Click here to read the Mint ePaperLivemint.com is now on Telegram. Join Livemint channel in your Telegram and stay updated',\n",
              " ' Nearly three years after Punjab-based International Tractors Ltd (ITL) began scouting for a suitable partner to enter the Chinese market, the homegrown tractor manufacturer on Monday announced a joint venture (JV) with Shandong Luyu Heavy Industry Company Ltd to foray into the world’s second-largest tractor market. In a statement today, the Indian company said the JV agreement was signed by Deepak Mittal, managing director, ITL, and Yang Shao Jie, founder and chairman, Shandong Luyu Heavy Industry Company Ltd. in New Delhi on 19 October. The joint venture entity will be named Luyulika (Laizhou) Agri Machinery Company Ltd. The note mentioned that KPMG was the financial advisor to ITL in the said transaction. The new JV will invest $10 million to set up an assembly plant for tractors and engines with a manufacturing capacity of 50,000 units in phase-1. “Further investments will be planned as per the future expansion,\" the statement note said. Shandong Luyu Heavy Industry is a $400 million company with presence in small-sized loaders, small and medium-sized excavators and forklifts in China. With its existing facility located at Laizhou Shahe Industrial Park in Shandong province, the Chinese company also exports products. Under the new JV, the Indian tractor maker will look at additional overseas business and also help the Chinese company expand its product line up with tractors and tractor engines. The statement also said the JV will assemble engines for wheel loader application for captive consumption of Shandong Luyu Heavy Industry and other wheel loader construction machinery manufacturers in China. ITL exports tractor engines that can also be deployed for several other similar applications in adjacent sectors including construction equipment. “Today ITL has presence in more than 120 countries and is a trusted brand among more than one million farmers in both India and overseas. We are taking a leap ahead with the formation of this JV. The engine assembly plant in China is a first by an Indian company,\" said Mittal. Jie of Shandong Luyu Heavy Industry Company Ltd said, “We believe that this JV will be able to penetrate with Sonalika range of tractors in China. It shall also help us to offer the globally accepted engine technology of Sonalika to its customers. Meanwhile, in India, ITL plans to consolidate its portfolio of tractors and farm equipment by introducing two new brands - Solis and Yanmar. The two brands will sell alongside ITL\\'s domestic tractor brand Sonalika, which already is among the top three tractor brands in India. Click here to read the Mint ePaperLivemint.com is now on Telegram. Join Livemint channel in your Telegram and stay updated',\n",
              " ' UNITED NATIONS : India has said that the UN Security Council needs to take more frequent recourse to the International Court of Justice to promote judicial settlement of international disputes before resorting to any other means. Yedla Umasankar, First Secretary/Legal adviser in India’s Permanent Mission to the UN, said on Friday the International Court of Justice (ICJ), the principal judicial organ of the United Nations, plays an important and critical role in the maintenance of international peace and security by adjudicating disputes between States. \"States are obliged to settle their disputes by peaceful means\\u200b, which is one of the fundamental principles under…the UN Charter. Article 33 of the Charter further strengthens this duty and provides the means which the parties to a dispute can choose freely,\" Umasankar said. Speaking at a General Assembly Sixth Committee session on Charter of the United Nations and on the Strengthening of the Role of the Organization, Umasankar said the \"Security Council needs to take more frequent recourse to the Court under Chapter VI of the UN Charter so as to promote judicial settlement of international disputes before resorting to any other means.\" Chapter VI of the UN Charter deals with the pacific settlement of disputes and Article 33 states that parties to any dispute, which if continues is likely to endanger the maintenance of international peace and security, shall, first of all, seek a solution by negotiation, enquiry, mediation, conciliation, arbitration, judicial settlement, resort to regional agencies or arrangements, or other peaceful means of their own choice.It also states that the Security Council shall, when it deems necessary, call upon the parties to settle their dispute by such means. Umasankar further said that maintenance of international peace and security is the primary responsibility of the Security Council, which has to act on behalf of all the UN member states in the discharge of its duties. In certain situations, the Security Council authorises sanctions under Chapter VII of the UN Charter and in such cases, sanctions could serve as an important tool in the maintenance of peace and security. \"They should not be used as punitive measures. They serve their purpose only if they are used, \\u200bwhen necessary as a measure of the last resort having tried all other options, and are applied so long as are necessary\\u200b, in accordance with the provisions of the UN Charter and do not violate the principles of international law,\" he said. He added that the Security Council is now increasingly issuing targeted sanctions against individuals and entities. \"We also take note (of) the report that the Security Council has adopted exceptions by which the states can signal to the relevant sanctions committee their intention to authorize access to frozen funds for a variety of basic and extraordinary expense. In our view, such exemptions should be at the behest of the affected states or by any states on its behalf.\" He said India took note of the role played by the General Assembly and the Economic and Social Council for assisting third states affected by the applications of sanctions under Article 50 of the Charter. \"However, we call upon the said bodies to play pro-active role in assisting such affected third states,\" he said.India also takes note of the arrangements made in the Secretariat for assisting the third states affected by the applications of sanctions and encourage the Secretariat to play a constructive role in exploring practical and effective measures in assisting the affected third states, he said. Click here to read the Mint ePaperLivemint.com is now on Telegram. Join Livemint channel in your Telegram and stay updated',\n",
              " ' Mumbai: Global private equity (PE) firm Advent International, on Friday, said it has bought out women’s innerwear brand Enamor from India Alternatives, Faering Capital and its promoters for about ₹320 crore. “Women’s lingerie in India is a high-growth market, with only a few strong brands in operation. As lingerie sales increase alongside disposable income, Enamor, one of the market’s leading players, is strongly positioned to benefit from these trends. We look forward to working with a global investor such as Advent, who will bring significant expertise and resources to help grow our business faster,\" said Shekhar Tewari, chief executive officer of Enamor. Started in collaboration with French lingerie brand Barbara in 2001, Enamor has grown to 20 exclusive brand outlets and over 4,500 points of sale across India, mainly in larger cities. The brand that makes lingerie, sportswear and athleisure wear, also sells its products online. “Enamor is a market leader in a dynamic segment with significant growth potential and a strong management team who will continue to lead the business,\" said Vinod Padikkal, director at Advent India PE Advisors Pvt Ltd. “We are excited to work with the team to help take the brand to the next level,\" he added. The deal marks Advent’s eighth investment in India and fourth in the consumer goods sector since 2015. In 2017, the firm acquired Dixcy Textiles Pvt. Ltd, which is an exclusive manufacturer and marketer of several leading men’s innerwear brands, including Dixcy Scott, Dixcy Scott UNO, Dixcy Josh and Dixcy & Slimz. Within the consumer goods space, the firm also agreed to acquire a majority stake in packaged snacks maker, DFM Foods Ltd., in September. In 2015, it invested in consumer electrical goods maker, Crompton Greaves Consumer Electricals. Its other investments in India are, Aditya Birla Capital, the holding company for the financial services businesses of Aditya Birla Group; Manjushree Technopack, rigid plastic packaging solutions provider; ASK Group, a leading wealth and investment management business and QuEST, a global engineering solutions provider. The PE firm, active in India since 2007, has invested nearly $1 billion in the country across 10 companies from sectors such as consumer products, financial services, healthcare, industrial and technology. In June, Advent raised its ninth global private equity fund, GPE IX, with commitments of $17.5 billion, surpassing the earlier target of $16 billion. The funds would be deployed primarily in Europe and North America and selectively in Asia and Latin America for buyouts, corporate carve-outs, public-to-private and growth equity transactions. The PE firm focuses its investments in five core sectors, including business and financial services, healthcare, industrial, retail, consumer and leisure, and technology, media and telecom. Click here to read the Mint ePaperLivemint.com is now on Telegram. Join Livemint channel in your Telegram and stay updated',\n",
              " ' New Delhi: Ethnic packaged foods company Bikaji Foods International Ltd has roped in Bollywood actor Amitabh Bachchan to star in its commercials that will air on television channels. Bachchan will feature as the face of the brand in a multimedia campaign that will go live in the first week of October, the company said in a statement on Thursday. Bikaji Foods is a packaged foods FMCG company that sells popular snacks such as bhujia, namkeen, papad, among others, under the Bikaji brand name. With the new campaign, the company plans to extend the brand’s reach to millennials and hook them to ethnic snacking as a category that is widely popular in the country but now also competes with more contemporary brands and healthy snacking options. “While conceptualizing the campaign the key task was to direct youth into re-subscribing to ethnic snacking and in the process make Bikaji the cool ethnic snack brand. The aim is to widen Bikaji’s appeal among millennials and customers who prefer modern snacks over ethnic ones,\" the company said in a release. The Bollywood actor’s “mass appeal and larger-than-life image will help expand Bikaji’s boundaries,\" Deepak Agarwal, CEO and Director, Bikaji Foods International Ltd said in a media statement. “Bikaji is a favourite among Indian snack lovers and we hope to enhance the brand appeal to young people across geographies and boost distributors’ confidence,\" he added. Earlier this year, Avendus Fund picked up a minority stake in the snack foods maker for ₹40 crore, according to a report in The Economic Times. Bikaji Foods was founded in 1987 in Bikaner (Rajasthan) and has a large presence in north and east India. Click here to read the Mint ePaperLivemint.com is now on Telegram. Join Livemint channel in your Telegram and stay updated',\n",
              " ' Government has appointed economist Surjit Bhalla as the executive director of the International Monetary Fund for a period of three years. The post was lying vacant after the death of Dr Subir Gokarn in July. \"The Appointments Committee of the Cabinet has approved the appointment of Dr. Surjit S. Bhalla, Economist, as Executive Director (India), International Monetary Fund for a period of three years from the date of assumption of the charge of the post or until further orders whichever is earlier,\" a statement from the Department of Personnel and Training said. Bhalla earlier served as a member of the prime minister\\'s economic advisory council but resigned earlier this year. His appointment has been cleared by the Appointments Committee of the Cabinet (ACC) headed by Prime Minister Narendra Modi. Click here to read the Mint ePaperLivemint.com is now on Telegram. Join Livemint channel in your Telegram and stay updated',\n",
              " ' Just five years ago, Daxing was a dusty area of farmland to the south of Beijing, largely neglected by visitors to the city. That’s no longer the case, now that an enormous airport has emerged there to thrust China even closer to toppling the U.S. as the world’s biggest aviation market. Beijing Daxing International Airport, an 80 billion yuan ($11.2 billion) starfish-shaped structure hailed by state media as a “new gateway\" to the country, opens just in time for the People’s Republic of China’s 70th birthday. A state-of-the-art terminal designed to eventually handle more than 100 million passengers a year is symbolic for President Xi Jinping, who faces a raft of challenges, including a trade war with the U.S., a slowing economy and mass protests in Hong Kong. Xi has identified aviation as a key strategic industry. The president attended an official opening ceremony for the new airport, designed by the late Zaha Hadid, on Wednesday. Within two decades, annual passenger traffic in China’s skies will reach 1.6 billion, according to the International Air Transport Association, more than the country’s population today. China has set a goal of having 450 commercial airports by 2035, almost double the number at the end of 2018. It’s also developed a jet to compete with Boeing Co. and Airbus SE. The vast new airport should increase Beijing’s passenger capacity by 60% and help unclog the capital’s other international airport — the second busiest in the world behind Atlanta — to the north, which often has long delays despite a huge new terminal opening there ahead of the 2008 Summer Olympics. Bottlenecks at Beijing Capital International Airport likely capped annual passenger traffic growth at an average of 4% from 2013 to 2018, Bloomberg Intelligence analyst Denise Wong said. Forced Hand China has little option but to spend big and fast to have a shot at keeping up with demand. In its latest annual report on the commercial aviation market, Boeing said it expects airline passenger traffic in China to grow 6% a year. McKinsey & Co. says the extra slots at Daxing — which will initially have four runways and eventually seven, including one for military use — could open new direct connections to places such as San Diego. Beijing now joins major cities including London, New York and Tokyo with more than one international airport. “It can get 10 if not hundreds of new destinations connected to Beijing over the years,\" said Steve Saxon, a McKinsey partner in Shanghai. “This is the power of having large connecting hubs.\" Daxing also upends the government’s traditional one-international-route-per-airline model that left long-haul services from Beijing in the hands of Air China Ltd. The new site will become a launchpad to Europe, Asia and beyond for the other two of China’s “Big Three\" carriers: China Eastern Airlines Corp. and China Southern Airlines Co. They’ll both get their first-ever direct flights to cities including Paris and Moscow. The goal is to restyle Beijing as an international transport hub as air travel surges with China’s expanding middle class and a greater desire to venture overseas. The opening of Daxing, which will also help closer integrate Beijing with Tianjin and Hebei, should put China on a stronger footing to compete with traditional transits such as Singapore and Hong Kong, as well as younger hubs like Bangkok, Seoul and Kuala Lumpur. China still trails many major aviation markets in Asia in terms of connectivity, according to a report by OAG Aviation Worldwide published Tuesday. Singapore and Hong Kong are the region’s most internationally connected hubs, the report showed. Shanghai Pudong International Airport, China’s top entry, came in eighth. IATA expects 4.6 billion people to take a flight in 2019, a figure that will almost double to 8.2 billion in 2037 as flying penetrates deeper into the enormous populations of India and Indonesia. Daxing is just one of many airport projects underway in Asia, collectively costing more than $100 billion, in a race to handle all those passengers. A new terminal opened at Shanghai Pudong International Airport on Sept. 16. Take a Break The relaxation of China’s one-route, one-airline policy at Daxing will encourage Chinese carriers to apply for international routes once monopolized by their competitors, said Yu Zhanfu, a partner at Roland Berger Strategy Consultants in Beijing who focuses on aviation. “Beijing will be a good spot to take a break without making a big detour,\" Yu said. Among the tons of steel and glass at Daxing, passengers will find five traditional-style Chinese gardens with ponds, wooden pavilions and stone bridges. The new airport also has facial recognition and paperless check-in systems using technologies from companies including China Unicom and Huawei Technologies Co. The Civil Aviation Administration of China is offering airlines incentives to use the new airport. They’ll get priority when it comes to obtaining rights for international flights, CAAC’s deputy director of transport department, Yu Biao, said in July. Foreign carriers can choose to operate in both airports in Beijing, or one of them, but those that switch to Daxing can acquire new routes or more convenient slots, Yu said. Daxing expects one fifth of its passengers to be transfers by 2025. Among international flag carriers, British Airways said in July it plans to shift its direct Heathrow-Beijing flights to the new airport from Oct. 27, helping it maximize a code-sharing agreement with China Southern. China Eastern has kept its Beijing-Shanghai route at the old airport, which is closer to the central business district. “The next step will be for us to keep expanding new routes,\" said CAAC’s Yu. “We’d like to see more foreign carriers operate in Daxing.\" This story has been published from a wire agency feed without modifications to the text. Only the headline has been changed. Click here to read the Mint ePaperLivemint.com is now on Telegram. Join Livemint channel in your Telegram and stay updated',\n",
              " ' Panaji: Heavy rains have deteriorated the runway at Goa\\'s Dabolim international airport and the proposed shut down of the runway from November 2, for six hours every Saturday for its maintenance, was expected to prevent any further deterioration, the Indian Navy said on Wednesday. \"The excessively heavy monsoon this season has adversely affected the runway surface,\" the Indian Navy said. The statement comes at a time when travel and tourism industry stakeholders in Goa, have expressed anxiety that the closure of the runway on Saturday could impact tourist arrivals. The Indian Navy, however maintained, that flights of only one international charter service provider would be impacted by the weekend closure. \"The proposed maintenance slot between 0630-1230 hours affects only one flight of charter operator Thompson Airways from the United Kingdom. The operator was offered additional slots to cater for their requirements which was accepted by their local manager as also all other airline operators,\" the statement said. The Dabolim international airport, Goa\\'s only airport, operates out of the Indian naval base INS Hansa in South Goa district. The military-run facility shuts down civil operations for 25 hours every week to facilitate training and exercises conducted by the aviation wing of the Indian Navy. Apart from the proposed maintenance schedule on Saturday, civilian flights are currently allowed at regulated hours during weekdays and for 24 hours on weekends. Setting aside hours for maintenance of the runway is common practice at other Indian airports, the statement also said. \"It is to be noted that many major airports in the country have runway maintenance slots of six to seven hours. The requirement to have minimum of six hours is necessary in Goa to prevent deterioration of runway surface. Indian Navy is mandated by regulations to ensure satisfactory condition of runway surface,\" it said. This story has been published from a wire agency feed without modifications to the text. Only the headline has been changed. Click here to read the Mint ePaperLivemint.com is now on Telegram. Join Livemint channel in your Telegram and stay updated',\n",
              " ' NEW DELHI : US-based private equity (PE) firm Advent International on Monday said it has signed a definitive pact to buy a majority stake in DFM Foods Ltd from its promoters and existing investors, including WestBridge Crossover Fund, LLC, for an estimated ₹852 crore. Under the share purchase agreement, Advent will buy a 67.90% stake from the promoters Delhi Flour Mills and existing investors, including WestBridge, Aravali Investment Holdings, and Jwalamukhi Investment Holdings, DFM said in a filing to the BSE. The packaged snacks company, which began selling Crax chips in 1984, later expanded its portfolio to add namkeen and wheat puffs under the ‘Natkhat’ brand. WestBridge, which took a stake in DFM in 2014, will fully exit the company. The acquisition will trigger an open offer to DFM’s public shareholders for an additional 26% stake in the company in line with rules of the Securities and Exchange Board of India. The open offer will be made at ₹249.50 per share and based on its response, Advent could end up paying between ₹852 crore and ₹938 crore for the entire deal, the PE firm said in a separate release. “DFM is a leader and innovator in a large, fast-growing segment of the Indian food and beverage industry. The company has strong brand awareness and distribution and numerous opportunities for continued growth,\" said Shweta Jalan, managing director and head of India at Advent. ICICI Securities Ltd is the financial advisor to Advent and manager to the open offer. KPMG is exclusive financial advisor to DFM Foods. This marks Advent’s seventh investment in India in the past four years. The deal with DFM is expected to close over the next 3-4 months pending regulatory approvals. Advent has invested over $1 billion in nine companies with headquarters or operations in India in sectors such as consumer products, financial services, healthcare, industrial and technology in the last 12 years. DFM will remain publicly listed post completion of the open offer, Advent International said in its release. The company has factories in Greater Noida and Ghaziabad. In the year ended 31 March 2019, the company posted a net profit of ₹32. 8 crore on revenue of ₹483 crore. India’s salty snacks market comprises brands such as PepsiCo’s Lay’s and ITC’s Bingo, besides Yellow Diamond, owned by Prataap Snacks. Click here to read the Mint ePaperLivemint.com is now on Telegram. Join Livemint channel in your Telegram and stay updated',\n",
              " ' New Delhi: The ED has issued a show cause notice to Amnesty International, a human rights watchdog, for alleged violation of the foreign exchange law to the tune of over ₹51 crore, officials said on Thursday, They said the notice was issued, after completion of the probe, under the Foreign Exchange Management Act (FEMA). The notice was issued last month by the Adjudicating Authority of the FEMA which is a special director rank officer of the Enforcement Directorate, the officials said. The alleged FEMA contravention is related to the borrowing and lending regulations to the tune of ₹51.72 crore for rendering civil society activities in the country by getting remittances from its parent body, Amnesty International UK, in the garb of export of services, they said. The central agency had last year conducted searches at the offices of the organisation in Bengaluru on charges of alleged violation of the Foreign Contribution Regulation Act (FCRA). PTI NES CPS SNE SNE This story has been published from a wire agency feed without modifications to the text. Only the headline has been changed. Click here to read the Mint ePaperLivemint.com is now on Telegram. Join Livemint channel in your Telegram and stay updated',\n",
              " ' KKR & Co. Inc. on Thursday said it has bought a majority stake in education services provider EuroKids International Pvt. Ltd from its existing investor consortium led by Gaja Capital. Having launched its first pre-school in 2001, EuroKids is one of India’s largest education services providers in the pre-school and kindergarten to class 12th (K-12) segments. Its portfolio brands, including EuroKids, EuroKids DayCare, Kangaroo Kids, EuroSchool and Billabong International, serve more than 120,000 students from 1,115 pre-schools and 35 K-12 schools across five countries. KKR has made the investment from its Asian Fund III, which is a $9.3 billion fund focused on investments in private equity transactions across the Asia Pacific region. EuroKids was founded by Prajodh Rajan and Vikas Phadnis. EuroKids will continue to be managed by its team of experienced educators, administrators and management team led by co-founder and group CEO Rajan, who will also remain a shareholder in the company, KKR said in a statement. Financial details of the transaction were not disclosed. “The desire for high-quality educational services is at an all-time high in India. The country has over 125 million children in the two-to-six age range, as well as the largest K-12 population in the world at 320 million people,\" said Ajay Candade, director at KKR. KKR plans to grow the portfolio of brands under EuroKids via both organic and inorganic routes and enhance its offerings and practices. It will further focus on including digital learning and tech-enabled teaching practices to expand the firm’s approach to a more holistic education model. The school franchise, the statement said, would continue adding high-quality education brands to its portfolio. In 2013, the Gaja Capital-led consortium of investors acquired a controlling stake in EuroKids from education solutions provider Educomp Solutions. In 2017, the school-chain acquired Kangaroo Kids and Billabong High franchise. “We are extremely proud to have partnered with co-founders Prajodh Rajan and Vikas Phadnis, along with the entire management team since our investment in 2013 to support a period of tremendous growth and development for EuroKids. This is a world-class organization—and one of India’s most well-regarded education brands—which is poised to expand rapidly in the coming years,\" said Gopal Jain, managing partner of Gaja Capital. This is not the first time KKR has bet on the education sector. In 2018, it signed a binding agreement for the sale of Cognita Schools, a UK-based global private schools group in which KKR had acquired a majority stake in 2013. The school-chain, established in 2004, runs more than 70 schools across eight countries, educating more than 40,000 children Click here to read the Mint ePaperLivemint.com is now on Telegram. Join Livemint channel in your Telegram and stay updated',\n",
              " ' New Delhi: Infrastructure major L&T on Tuesday said its construction arm has bagged the contract for construction of the Navi Mumbai International Airport. The company did not provide value of the contracts but said the orders fall under \"major\" category which ranges between ₹5,000 crore and ₹7,000 crore as per its classification of contracts. \"The transportation infrastructure and buildings and factories businesses of L&T Construction have secured a prestigious project from the Navi Mumbai International Airport Private Ltd (NMIAPL) for the engineering, procurement and construction of the greenfield Navi Mumbai International Airport at Navi Mumbai,\" L&T said in a regulatory filing. The passenger terminal building is being developed to initially handle a capacity of 10 MPA (million passengers per annum). The project will subsequently be enhanced to handle 20 MPA, the company added. Shares of the company were trading at ₹1,314 apiece, down 1.06%, from their previous close on BSE. Click here to read the Mint ePaperLivemint.com is now on Telegram. Join Livemint channel in your Telegram and stay updated',\n",
              " ' MOSCOW : A Russian humanoid robot was making its way on Thursday to the International Space Station after blasting off on a two-week mission to support the crew and test his skills. Known as FEDOR, which stands for Final Experimental Demonstration Object Research, the Skybot F-850 is the first humanoid robot to be sent to space by Russia. NASA sent humanoid robot Robonaut 2 to space in 2011 to work in hazardous environments. \"The robot\\'s main purpose it to be used in operations that are especially dangerous for humans onboard spacecraft and in outer space,\" Russian space agency Roscosmos said on Thursday after the launch from the Baikonur Cosmodrome. The ISS is a joint project of the space agencies of the United States, Russia, Europe, Japan and Canada. Travelling in an unmanned Soyuz MS-14 spacecraft, FEDOR is expected to dock at the ISS on Saturday with 1,450 pounds (660 kg) of cargo including medical supplies and food rations for the crew waiting at the station, NASA said. FEDOR, who is the size an adult and can emulate movements of the human body, has apparently embraced his mission, describing himself as \"an assistant to the ISS crew\" on his Twitter page, which has 4,600 followers. \"Everything is normal,\" a tweet posted on his account said a few hours into his flight. This story has been published from a wire agency feed without modifications to the text. Click here to read the Mint ePaperLivemint.com is now on Telegram. Join Livemint channel in your Telegram and stay updated',\n",
              " ' NEW DELHI : The Delhi airport on Friday introduced \\'express security check-in\\' facility at Terminal 2, which will enable domestic passengers with only handbags to head straight to the express lane without getting into the check-in area. \"This facility will significantly reduce the load on the main security check-in area by diverting passengers carrying only hand baggage towards express lane. It will ensure fast and seamless flow of the domestic passengers travelling without any check-in baggage,\" the Delhi International Airport Limited (DIAL) said in a statement. The domestic passengers, after printing their boarding pass from the newly installed \\'self-service kiosks\\' at the terminal or getting their web check-in done, can now enter the express security check lane without getting into the check-in area and head straight towards the boarding area. The Delhi airport has introduced the facility in collaboration with the Central Industrial Security Force (CISF). Terminal 2 handles about 45,000 domestic passengers daily of which, more than 13,000 passengers (30 per cent) travel without any check-in baggage. \"Passengers, particularly frequent flyers such as government officials, business, and corporate travellers will immensely benefit from the express check-in facility, as this will save their precious time before boarding the aircraft,\" the GMR-led DIAL said in its statement. The new process will also benefit the airlines by improving their on-time performance (OTP), it added. Click here to read the Mint ePaperLivemint.com is now on Telegram. Join Livemint channel in your Telegram and stay updated',\n",
              " ' China\\'s economy already is slowing amid the trade conflict with the United States, but if Washington were to ramp up tariffs even further it could cut Chinese growth sharply, the IMF warned Friday. The International Monetary Fund already had trimmed its growth forecast for China to 6.2% this year, assuming no new tariffs are imposed. But US duties of 25% on Chinese goods not yet facing tariffs would slow the economy in the following year, the IMF said in a report. The annual review of China\\'s economy — known as the Article IV report — was completed before President Donald Trump announced plans to impose 10 percent punitive tariffs on $300 billion in imports. That new tranche means that all products from China will be subject to duties starting September 1 in the intensifying trade war. The Washington-based global crisis lender once again called for a quick resolution to the trade conflict between the world\\'s economic superpowers, warning of \"significant negative spillovers globally.\" For China, the report said, \"A further escalation of the trade tensions, for example the US raising tariffs to 25% on remaining imports from (China), could reduce growth by around 0.8 percentage points over the following 12 months.\" James Daniel, the IMF\\'s mission chief to China, said Friday the 10% tariffs Trump announced could slow the nation\\'s growth by 0.3 points in the coming year. While he declined to comment on the current status of the conflict, Daniel told reporters the fund\\'s recommendations to China in the event conditions deteriorate is to provide more fiscal stimulus and allow its currency to move freely to \"help absorb the tariff shock.\" The situation \"requires some kind of response,\" Daniel said on a conference call. But China\\'s currency \"should remain flexible and market-determined,\" which would mean \"less intervention.\" However, when Beijing allowed its currency to weaken Monday following the tariff announcement, Trump angrily accused China of manipulating its currency to gain a trade advantage over US companies. China\\'s central bank then intervened to stabilize the exchange rate to prevent it from falling further. High-quality growth Trump earlier Friday cast doubt on the chances for a trade deal, and signaled he might cancel talks planned for September. Relations have soured further in the past week after Trump announced the new round of punitive tariffs, despite a truce agreed with President Xi Jinping in May, and Beijing responded by halting all purchases of US agricultural goods. The US Treasury then declared China a currency manipulator, after the yuan dropped below seven to the dollar -- a psychological threshold. While Trump has crowed over the slowing Chinese economy, Daniel stressed that the gradual decline in growth is part of a process \"to successfully switch from high-speed to high-quality growth.\" The report projects growth will moderate to 6% in 2020 and to 5.5% by 2024. But there is \"an awful lot China can and should be doing\" as part of that process, he said, including continuing reforms to open up more sectors of the economy, reducing impediments to trade and boosting consumption. It is \"very much in China\\'s interest,\" Daniel said. This story has been published from a wire agency feed without modifications to the text. Only the headline has been changed. Click here to read the Mint ePaperLivemint.com is now on Telegram. Join Livemint channel in your Telegram and stay updated',\n",
              " ' Amid heavy rainfall in Kerala, operations at the Cochin International Airport in Kochi were suspended till Sunday 3 pm. The official Twitter handle of Kerala CM tweeted, \"CIAL has informed that the operations of the Cochin International Airport, Kochi (COK) will remain suspended till 1500 hrs of Sunday (11/08/2019).\" The Kerala government has also declared a holiday for Friday for all the schools across the state today. CIAL has informed that the operations of the Cochin International Airport, Kochi (COK) will remain suspended till 1500 hrs of Sunday (11/08/2019). pic.twitter.com/JPFwvVDWvu \"As the apron area is water logged due to the flood, all aircraft operations suspended at Kochi airport till 3PM on Sunday (11/08/19). Emergency contact numbers: 0484 3053500, 9072604009,\" a statement issued on Thursday by the Cochin International Airport Ltd (CIAL) said. Earlier on Thursday, flight operations were suspended for four hours till midnight as a precautionary measure in view of heavy rains. The operations were suspended as there was a rise in water levels in Periyar river and a canal adjacent to the airport. The Kerala Disaster Management Authority had also issued a \\'Red Alert\\' warning for Idukki, Malappuram and Kozhikode districts. Moreover, Thrissur, Palakkad, Wayanad, Kannur and Kasaragod were issued \\'Orange Alerts\\'. Moderate to heavy rainfall with wind speed reaching 40 to 50 kmph is very likely to occur at one or two places in Thiruvananthapuram, Kollam, Pathanamthitta, Alappuzha, Kottayam, Idukki, Ernakulam & Thrissur districts. Heavy rains have been battering Kerala for the past few days. Eight people were killed in rain-related incidents in the state on Thursday, bringing back memories of last year\\'s devastating floods. The airport was closed for several days in the huge floods that took place in August 2018. Airport infrastructure was damaged in the floods, with an estimated loss of ₹220-250 crore. Click here to read the Mint ePaperLivemint.com is now on Telegram. Join Livemint channel in your Telegram and stay updated',\n",
              " ' New Delhi: State-run REC Ltd. has raised $650 million by issuing bonds in the international market, the company said in a statement on Friday. “REC Limited has successfully raised $650 million ( ₹4,450 crore), 5-year bond from REG S Bonds under the established Global Medium Term Programme of $5 billion. Proceeds of the bond will be used to finance power projects in accordance with the approvals granted by the RBI from time to time and in accordance with the ECB Guidelines,\" said the statement from one of the largest financier for the domestic power sector in India. The bond issuance by REC followed the $1 billion bond issued by state run Power Finance Corp. Ltd (PFC) in the international market last month. PFC recently completed purchase of a controlling stake in state-run peer REC Ltd that will create an $80 billion lending giant by assets. PFC paid Rs14,500 crore to the Union government to buy a 52.63% stake in REC. “The 5-year REG S Bond has a semi-annual coupon of 3.375% per annum and a maturity date of 25 July 2024. It offers investors a reoffer spread of 167.50 basis points over the 5-year UST. The transaction saw an oversubscription of more than four times with active participation from more than 140 major international investor accounts allowing it to price inside its current market levels with the tightest coupon ever on its five-year dollar bond,\" the REC statement added. The bond issue comes at a time when power sector lenders are recalibrating their loan portfolio in the backdrop of India’s changing energy mix. Investments in the country’s renewable energy sector have doubled over the last five years to around $20 billion in 2018, surpassing the capital expenditure in the thermal power sector, according to a joint study by Paris-based International Energy Agency (IEA) and Council on Energy, Environment and Water (CEEW). India’s additional clean energy investment requirement is of around $80 billion till 2022, growing more than three-fold to $250 billion during 2023-30. The country’s power sector is also one of the most highly stressed sectors, with close to Rs1 trillion of loans having turned bad or been recast. Around 66 gigawatts (GW) of capacity is facing various degrees of financial stress, including 54.8 GW of coal-based power (44 assets), 6.83 GW of gas-based power (nine assets) and 4.57 GW of hydropower (13 assets). Click here to read the Mint ePaperLivemint.com is now on Telegram. Join Livemint channel in your Telegram and stay updated']"
            ]
          },
          "metadata": {
            "tags": []
          },
          "execution_count": 26
        }
      ]
    },
    {
      "cell_type": "markdown",
      "metadata": {
        "id": "24D76nYbTs0a",
        "colab_type": "text"
      },
      "source": [
        "Making Data Frame"
      ]
    },
    {
      "cell_type": "code",
      "metadata": {
        "id": "SHy1LHhRTxC_",
        "colab_type": "code",
        "colab": {}
      },
      "source": [
        "df = pd.DataFrame(\n",
        "     {'Article_sentiment': ' ',\n",
        "      'News headline': list_titles,\n",
        "      'Date of Publication' : dates,\n",
        "      'Link to Article': list_links,\n",
        "      'Complete Text' : news_contents,\n",
        "      'Sentence_score':' '\n",
        "      })\n",
        "\n"
      ],
      "execution_count": null,
      "outputs": []
    },
    {
      "cell_type": "code",
      "metadata": {
        "id": "e4y6ne4DkZHr",
        "colab_type": "code",
        "colab": {
          "base_uri": "https://localhost:8080/",
          "height": 330
        },
        "outputId": "1bcca815-2cab-4c0a-b699-c2c2085f431e"
      },
      "source": [
        "df.head()"
      ],
      "execution_count": null,
      "outputs": [
        {
          "output_type": "execute_result",
          "data": {
            "text/html": [
              "<div>\n",
              "<style scoped>\n",
              "    .dataframe tbody tr th:only-of-type {\n",
              "        vertical-align: middle;\n",
              "    }\n",
              "\n",
              "    .dataframe tbody tr th {\n",
              "        vertical-align: top;\n",
              "    }\n",
              "\n",
              "    .dataframe thead th {\n",
              "        text-align: right;\n",
              "    }\n",
              "</style>\n",
              "<table border=\"1\" class=\"dataframe\">\n",
              "  <thead>\n",
              "    <tr style=\"text-align: right;\">\n",
              "      <th></th>\n",
              "      <th>Article_sentiment</th>\n",
              "      <th>News headline</th>\n",
              "      <th>Date of Publication</th>\n",
              "      <th>Link to Article</th>\n",
              "      <th>Complete Text</th>\n",
              "      <th>Sentence_score</th>\n",
              "    </tr>\n",
              "  </thead>\n",
              "  <tbody>\n",
              "    <tr>\n",
              "      <th>0</th>\n",
              "      <td></td>\n",
              "      <td>Global debt hits record high of 331% of GDP in...</td>\n",
              "      <td>16 Jul 2020</td>\n",
              "      <td>https://www.livemint.com/news/world/global-deb...</td>\n",
              "      <td>Global debt surged to a record $258 trillion ...</td>\n",
              "      <td></td>\n",
              "    </tr>\n",
              "    <tr>\n",
              "      <th>1</th>\n",
              "      <td></td>\n",
              "      <td>About 60% of pre-Covid domestic flights may re...</td>\n",
              "      <td>16 Jul 2020</td>\n",
              "      <td>https://www.livemint.com/news/india/about-60-o...</td>\n",
              "      <td>Union civil aviation ministry Hardeep Singh P...</td>\n",
              "      <td></td>\n",
              "    </tr>\n",
              "    <tr>\n",
              "      <th>2</th>\n",
              "      <td></td>\n",
              "      <td>International flights to US, France set to res...</td>\n",
              "      <td>16 Jul 2020</td>\n",
              "      <td>https://www.livemint.com/news/india/indian-gov...</td>\n",
              "      <td>Civil Aviation Minister Hardeep Singh Puri in...</td>\n",
              "      <td></td>\n",
              "    </tr>\n",
              "    <tr>\n",
              "      <th>3</th>\n",
              "      <td></td>\n",
              "      <td>ED files money laundering case against GVK gro...</td>\n",
              "      <td>07 Jul 2020</td>\n",
              "      <td>https://www.livemint.com/news/india/ed-files-m...</td>\n",
              "      <td>New Delhi: The Enforcement Directorate (ED) h...</td>\n",
              "      <td></td>\n",
              "    </tr>\n",
              "    <tr>\n",
              "      <th>4</th>\n",
              "      <td></td>\n",
              "      <td>Vistara hopes to resume international flights ...</td>\n",
              "      <td>08 Jul 2020</td>\n",
              "      <td>https://www.livemint.com/companies/news/vistar...</td>\n",
              "      <td>New Delhi: Full service carrier Vistara, a jo...</td>\n",
              "      <td></td>\n",
              "    </tr>\n",
              "  </tbody>\n",
              "</table>\n",
              "</div>"
            ],
            "text/plain": [
              "  Article_sentiment  ... Sentence_score\n",
              "0                    ...               \n",
              "1                    ...               \n",
              "2                    ...               \n",
              "3                    ...               \n",
              "4                    ...               \n",
              "\n",
              "[5 rows x 6 columns]"
            ]
          },
          "metadata": {
            "tags": []
          },
          "execution_count": 28
        }
      ]
    },
    {
      "cell_type": "code",
      "metadata": {
        "id": "3kMmvKRNMVob",
        "colab_type": "code",
        "colab": {
          "base_uri": "https://localhost:8080/",
          "height": 34
        },
        "outputId": "df278d80-6fb8-4883-a6ce-d3a960bffd63"
      },
      "source": [
        "len(df.index)"
      ],
      "execution_count": null,
      "outputs": [
        {
          "output_type": "execute_result",
          "data": {
            "text/plain": [
              "55"
            ]
          },
          "metadata": {
            "tags": []
          },
          "execution_count": 29
        }
      ]
    },
    {
      "cell_type": "code",
      "metadata": {
        "id": "PqZ--_pTkakG",
        "colab_type": "code",
        "colab": {}
      },
      "source": [
        "# saving the dataframe \n",
        "df.to_csv('livemint.csv') "
      ],
      "execution_count": null,
      "outputs": []
    },
    {
      "cell_type": "code",
      "metadata": {
        "id": "zH2zkZdE5RuO",
        "colab_type": "code",
        "colab": {}
      },
      "source": [
        ""
      ],
      "execution_count": null,
      "outputs": []
    }
  ]
}