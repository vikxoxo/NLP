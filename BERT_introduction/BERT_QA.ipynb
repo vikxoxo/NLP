{
  "nbformat": 4,
  "nbformat_minor": 0,
  "metadata": {
    "colab": {
      "name": "Final BERT_QA.ipynb",
      "provenance": [],
      "collapsed_sections": []
    },
    "kernelspec": {
      "name": "python3",
      "display_name": "Python 3"
    },
    "accelerator": "GPU"
  },
  "cells": [
    {
      "cell_type": "code",
      "metadata": {
        "id": "l5aszqxr731I",
        "colab_type": "code",
        "colab": {}
      },
      "source": [
        "import torch\n",
        "import pandas as pd\n",
        "import numpy as np\n",
        "import os\n",
        "from torch.utils.data import (DataLoader, RandomSampler, SequentialSampler,\n",
        "                              TensorDataset)"
      ],
      "execution_count": 0,
      "outputs": []
    },
    {
      "cell_type": "code",
      "metadata": {
        "id": "yz6Ok5b4EvCW",
        "colab_type": "code",
        "outputId": "fdd05fea-6575-4b4f-cd84-96dbdd9d2c81",
        "colab": {
          "base_uri": "https://localhost:8080/",
          "height": 55
        }
      },
      "source": [
        "from google.colab import drive\n",
        "drive.mount('/content/drive')\n"
      ],
      "execution_count": 2,
      "outputs": [
        {
          "output_type": "stream",
          "text": [
            "Drive already mounted at /content/drive; to attempt to forcibly remount, call drive.mount(\"/content/drive\", force_remount=True).\n"
          ],
          "name": "stdout"
        }
      ]
    },
    {
      "cell_type": "code",
      "metadata": {
        "id": "bXv_OHttwq4Z",
        "colab_type": "code",
        "colab": {
          "base_uri": "https://localhost:8080/",
          "height": 35
        },
        "outputId": "b3bad3c7-2317-46a3-f1af-b01d4042b4ed"
      },
      "source": [
        "! mkdir covid \\\n",
        "&& cd covid \\\n",
        "&& cp /content/drive/'My Drive'/'Colab Notebooks'/BERT_QA/*.csv ."
      ],
      "execution_count": 3,
      "outputs": [
        {
          "output_type": "stream",
          "text": [
            "mkdir: cannot create directory ‘covid’: File exists\n"
          ],
          "name": "stdout"
        }
      ]
    },
    {
      "cell_type": "code",
      "metadata": {
        "id": "Mm6tTbp5S9GL",
        "colab_type": "code",
        "outputId": "b311460d-d8a4-48ee-b615-c205610d6780",
        "colab": {
          "base_uri": "https://localhost:8080/",
          "height": 349
        }
      },
      "source": [
        "!pip install transformers"
      ],
      "execution_count": 4,
      "outputs": [
        {
          "output_type": "stream",
          "text": [
            "Requirement already satisfied: transformers in /usr/local/lib/python3.6/dist-packages (2.9.1)\n",
            "Requirement already satisfied: requests in /usr/local/lib/python3.6/dist-packages (from transformers) (2.23.0)\n",
            "Requirement already satisfied: sentencepiece in /usr/local/lib/python3.6/dist-packages (from transformers) (0.1.90)\n",
            "Requirement already satisfied: filelock in /usr/local/lib/python3.6/dist-packages (from transformers) (3.0.12)\n",
            "Requirement already satisfied: dataclasses; python_version < \"3.7\" in /usr/local/lib/python3.6/dist-packages (from transformers) (0.7)\n",
            "Requirement already satisfied: numpy in /usr/local/lib/python3.6/dist-packages (from transformers) (1.18.4)\n",
            "Requirement already satisfied: regex!=2019.12.17 in /usr/local/lib/python3.6/dist-packages (from transformers) (2019.12.20)\n",
            "Requirement already satisfied: tokenizers==0.7.0 in /usr/local/lib/python3.6/dist-packages (from transformers) (0.7.0)\n",
            "Requirement already satisfied: tqdm>=4.27 in /usr/local/lib/python3.6/dist-packages (from transformers) (4.41.1)\n",
            "Requirement already satisfied: sacremoses in /usr/local/lib/python3.6/dist-packages (from transformers) (0.0.43)\n",
            "Requirement already satisfied: chardet<4,>=3.0.2 in /usr/local/lib/python3.6/dist-packages (from requests->transformers) (3.0.4)\n",
            "Requirement already satisfied: certifi>=2017.4.17 in /usr/local/lib/python3.6/dist-packages (from requests->transformers) (2020.4.5.1)\n",
            "Requirement already satisfied: urllib3!=1.25.0,!=1.25.1,<1.26,>=1.21.1 in /usr/local/lib/python3.6/dist-packages (from requests->transformers) (1.24.3)\n",
            "Requirement already satisfied: idna<3,>=2.5 in /usr/local/lib/python3.6/dist-packages (from requests->transformers) (2.9)\n",
            "Requirement already satisfied: click in /usr/local/lib/python3.6/dist-packages (from sacremoses->transformers) (7.1.2)\n",
            "Requirement already satisfied: joblib in /usr/local/lib/python3.6/dist-packages (from sacremoses->transformers) (0.14.1)\n",
            "Requirement already satisfied: six in /usr/local/lib/python3.6/dist-packages (from sacremoses->transformers) (1.12.0)\n"
          ],
          "name": "stdout"
        }
      ]
    },
    {
      "cell_type": "code",
      "metadata": {
        "id": "As3YjmF1YqUV",
        "colab_type": "code",
        "outputId": "96b81289-3d69-4613-a52b-8562f19c83bc",
        "colab": {
          "base_uri": "https://localhost:8080/",
          "height": 441
        }
      },
      "source": [
        "!wget 'https://s3.amazonaws.com/models.huggingface.co/bert/bert-large-uncased-whole-word-masking-finetuned-squad-config.json'\n",
        "!wget 'https://s3.amazonaws.com/models.huggingface.co/bert/bert-large-uncased-whole-word-masking-finetuned-squad-pytorch_model.bin'"
      ],
      "execution_count": 5,
      "outputs": [
        {
          "output_type": "stream",
          "text": [
            "--2020-05-16 15:10:40--  https://s3.amazonaws.com/models.huggingface.co/bert/bert-large-uncased-whole-word-masking-finetuned-squad-config.json\n",
            "Resolving s3.amazonaws.com (s3.amazonaws.com)... 52.216.26.6\n",
            "Connecting to s3.amazonaws.com (s3.amazonaws.com)|52.216.26.6|:443... connected.\n",
            "HTTP request sent, awaiting response... 200 OK\n",
            "Length: 443 [application/json]\n",
            "Saving to: ‘bert-large-uncased-whole-word-masking-finetuned-squad-config.json.1’\n",
            "\n",
            "\r          bert-larg   0%[                    ]       0  --.-KB/s               \rbert-large-uncased- 100%[===================>]     443  --.-KB/s    in 0s      \n",
            "\n",
            "2020-05-16 15:10:40 (10.1 MB/s) - ‘bert-large-uncased-whole-word-masking-finetuned-squad-config.json.1’ saved [443/443]\n",
            "\n",
            "--2020-05-16 15:10:42--  https://s3.amazonaws.com/models.huggingface.co/bert/bert-large-uncased-whole-word-masking-finetuned-squad-pytorch_model.bin\n",
            "Resolving s3.amazonaws.com (s3.amazonaws.com)... 52.216.26.6\n",
            "Connecting to s3.amazonaws.com (s3.amazonaws.com)|52.216.26.6|:443... connected.\n",
            "HTTP request sent, awaiting response... 200 OK\n",
            "Length: 1340675298 (1.2G) [application/octet-stream]\n",
            "Saving to: ‘bert-large-uncased-whole-word-masking-finetuned-squad-pytorch_model.bin.1’\n",
            "\n",
            "bert-large-uncased- 100%[===================>]   1.25G  67.0MB/s    in 20s     \n",
            "\n",
            "2020-05-16 15:11:02 (64.3 MB/s) - ‘bert-large-uncased-whole-word-masking-finetuned-squad-pytorch_model.bin.1’ saved [1340675298/1340675298]\n",
            "\n"
          ],
          "name": "stdout"
        }
      ]
    },
    {
      "cell_type": "code",
      "metadata": {
        "id": "Jwd8paivL8A3",
        "colab_type": "code",
        "colab": {}
      },
      "source": [
        "df1 = pd.read_csv('/content/covid/Covid19_Question_Answer_set.csv',encoding = \"ISO-8859-1\")\n",
        "df2 = pd.read_csv('/content/covid/community.csv',encoding = \"ISO-8859-1\")\n",
        "df3 = pd.read_csv('/content/covid/news.csv',encoding = \"ISO-8859-1\")"
      ],
      "execution_count": 0,
      "outputs": []
    },
    {
      "cell_type": "code",
      "metadata": {
        "id": "4IlHtxeMc6NM",
        "colab_type": "code",
        "colab": {}
      },
      "source": [
        "df1 = pd.DataFrame(df1)"
      ],
      "execution_count": 0,
      "outputs": []
    },
    {
      "cell_type": "code",
      "metadata": {
        "id": "9P13dNr-Ur7b",
        "colab_type": "code",
        "outputId": "b7f6eadc-4b2a-4d3c-96b9-2ebb4cc73e59",
        "colab": {
          "base_uri": "https://localhost:8080/",
          "height": 424
        }
      },
      "source": [
        "covid_df = df1[['Questions','Answers']]\n",
        "covid_df = covid_df.replace('\\n|\\t|\\r','', regex=True)\n",
        "covid_df"
      ],
      "execution_count": 8,
      "outputs": [
        {
          "output_type": "execute_result",
          "data": {
            "text/html": [
              "<div>\n",
              "<style scoped>\n",
              "    .dataframe tbody tr th:only-of-type {\n",
              "        vertical-align: middle;\n",
              "    }\n",
              "\n",
              "    .dataframe tbody tr th {\n",
              "        vertical-align: top;\n",
              "    }\n",
              "\n",
              "    .dataframe thead th {\n",
              "        text-align: right;\n",
              "    }\n",
              "</style>\n",
              "<table border=\"1\" class=\"dataframe\">\n",
              "  <thead>\n",
              "    <tr style=\"text-align: right;\">\n",
              "      <th></th>\n",
              "      <th>Questions</th>\n",
              "      <th>Answers</th>\n",
              "    </tr>\n",
              "  </thead>\n",
              "  <tbody>\n",
              "    <tr>\n",
              "      <th>0</th>\n",
              "      <td>What is the incubation period of the corona vi...</td>\n",
              "      <td>The incubation period means the time between...</td>\n",
              "    </tr>\n",
              "    <tr>\n",
              "      <th>1</th>\n",
              "      <td>Who is most at risk for the corona virus disease?</td>\n",
              "      <td>People of all ages can be infected by the new ...</td>\n",
              "    </tr>\n",
              "    <tr>\n",
              "      <th>2</th>\n",
              "      <td>Is the corona virus disease the same as SARS?</td>\n",
              "      <td>No. The virus that causes COVID-19 and the one...</td>\n",
              "    </tr>\n",
              "    <tr>\n",
              "      <th>3</th>\n",
              "      <td>What is a corona virus?</td>\n",
              "      <td>corona viruses are a large family of viruses t...</td>\n",
              "    </tr>\n",
              "    <tr>\n",
              "      <th>4</th>\n",
              "      <td>Can humans become infected with a novel corona...</td>\n",
              "      <td>Detailed investigations found that SARS-CoV wa...</td>\n",
              "    </tr>\n",
              "    <tr>\n",
              "      <th>...</th>\n",
              "      <td>...</td>\n",
              "      <td>...</td>\n",
              "    </tr>\n",
              "    <tr>\n",
              "      <th>200</th>\n",
              "      <td>Is it safe to receive a package from any area ...</td>\n",
              "      <td>Yes. The likelihood of an infected person cont...</td>\n",
              "    </tr>\n",
              "    <tr>\n",
              "      <th>201</th>\n",
              "      <td>Do I need to wear a mask every time I step out...</td>\n",
              "      <td>Wearing masks does more to protect others agai...</td>\n",
              "    </tr>\n",
              "    <tr>\n",
              "      <th>202</th>\n",
              "      <td>What is the government doing to contain the sp...</td>\n",
              "      <td>The government is following the instructions o...</td>\n",
              "    </tr>\n",
              "    <tr>\n",
              "      <th>203</th>\n",
              "      <td>Where can I go to obtain accurate, scientific,...</td>\n",
              "      <td>The websites of the World Health Organization ...</td>\n",
              "    </tr>\n",
              "    <tr>\n",
              "      <th>204</th>\n",
              "      <td>How long is the incubation period for COVID-19?</td>\n",
              "      <td>The incubation period means the time between...</td>\n",
              "    </tr>\n",
              "  </tbody>\n",
              "</table>\n",
              "<p>205 rows × 2 columns</p>\n",
              "</div>"
            ],
            "text/plain": [
              "                                             Questions                                            Answers\n",
              "0    What is the incubation period of the corona vi...  The incubation period means the time between...\n",
              "1    Who is most at risk for the corona virus disease?  People of all ages can be infected by the new ...\n",
              "2        Is the corona virus disease the same as SARS?  No. The virus that causes COVID-19 and the one...\n",
              "3                              What is a corona virus?  corona viruses are a large family of viruses t...\n",
              "4    Can humans become infected with a novel corona...  Detailed investigations found that SARS-CoV wa...\n",
              "..                                                 ...                                                ...\n",
              "200  Is it safe to receive a package from any area ...  Yes. The likelihood of an infected person cont...\n",
              "201  Do I need to wear a mask every time I step out...  Wearing masks does more to protect others agai...\n",
              "202  What is the government doing to contain the sp...  The government is following the instructions o...\n",
              "203  Where can I go to obtain accurate, scientific,...  The websites of the World Health Organization ...\n",
              "204    How long is the incubation period for COVID-19?  The incubation period means the time between...\n",
              "\n",
              "[205 rows x 2 columns]"
            ]
          },
          "metadata": {
            "tags": []
          },
          "execution_count": 8
        }
      ]
    },
    {
      "cell_type": "code",
      "metadata": {
        "id": "04JgLN59PVrX",
        "colab_type": "code",
        "colab": {}
      },
      "source": [
        "# # community_df = pd.DataFrame(columns=['questions','answer'])\n",
        "# community_df = df2[['title','answer']]\n",
        "# community_df = community_df.replace('\\n|\\t|\\r','', regex=True)\n",
        "# community_df.rename(columns={'title': 'Questions','answer':'Answers'},inplace=True)\n",
        "# community_df"
      ],
      "execution_count": 0,
      "outputs": []
    },
    {
      "cell_type": "code",
      "metadata": {
        "id": "P6j75E6VS4Dk",
        "colab_type": "code",
        "colab": {}
      },
      "source": [
        "# news_df  = df3[['question','answer']]\n",
        "# news_df = news_df.replace('\\n|\\t|\\r','', regex=True)\n",
        "# news_df.rename(columns={'question': 'Questions','answer':'Answers'},inplace=True)\n",
        "# news_df"
      ],
      "execution_count": 0,
      "outputs": []
    },
    {
      "cell_type": "code",
      "metadata": {
        "id": "BWiUV61RUgsG",
        "colab_type": "code",
        "colab": {}
      },
      "source": [
        "# df = pd.concat([covid_df,community_df,news_df],ignore_index=True)\n",
        "df = covid_df"
      ],
      "execution_count": 0,
      "outputs": []
    },
    {
      "cell_type": "code",
      "metadata": {
        "id": "leiFy5rnWmH3",
        "colab_type": "code",
        "outputId": "4e945678-3c1b-4741-82a7-9de549848fed",
        "colab": {
          "base_uri": "https://localhost:8080/",
          "height": 35
        }
      },
      "source": [
        "df.shape"
      ],
      "execution_count": 12,
      "outputs": [
        {
          "output_type": "execute_result",
          "data": {
            "text/plain": [
              "(205, 2)"
            ]
          },
          "metadata": {
            "tags": []
          },
          "execution_count": 12
        }
      ]
    },
    {
      "cell_type": "code",
      "metadata": {
        "id": "Fb4joHBedas0",
        "colab_type": "code",
        "colab": {}
      },
      "source": [
        "import unicodedata\n",
        "df['Questions'] = df['Questions'].apply(lambda val: unicodedata.normalize('NFKD', str(val)).encode('ascii', 'ignore').decode())\n",
        "df['Questions'] = df['Questions'].str.replace('http\\S+|www.\\S+', '', case=False)\n",
        "df['Answers'] = df['Answers'].apply(lambda val: unicodedata.normalize('NFKD', str(val)).encode('ascii', 'ignore').decode())\n",
        "df['Answers'] = df['Answers'].str.replace('http\\S+|www.\\S+', '', case=False)"
      ],
      "execution_count": 0,
      "outputs": []
    },
    {
      "cell_type": "code",
      "metadata": {
        "id": "zW7kgapy4Urn",
        "colab_type": "code",
        "colab": {}
      },
      "source": [
        "context1 = df['Answers'][:20].tolist()\n",
        "context1 = ' '.join(context1)\n",
        "with open(r'/content/covid/covid1.txt','w') as wrt:\n",
        "  wrt.write(context1)\n",
        "  wrt.close()\n",
        "# len(context1)"
      ],
      "execution_count": 0,
      "outputs": []
    },
    {
      "cell_type": "code",
      "metadata": {
        "id": "UNO22B2uZBcI",
        "colab_type": "code",
        "colab": {}
      },
      "source": [
        "def load_file(source):\n",
        "    with open(source,'r') as f:\n",
        "        text = f.read()\n",
        "        f.close()\n",
        "    return text\n"
      ],
      "execution_count": 0,
      "outputs": []
    },
    {
      "cell_type": "code",
      "metadata": {
        "id": "v39yf6a2EuLB",
        "colab_type": "code",
        "colab": {}
      },
      "source": [
        "!cp /content/drive/'My Drive'/'Colab Notebooks'/BERT_QA/covid.txt /content/covid/\n",
        "DATADIR = '/content/covid/'\n",
        "file = os.path.join(DATADIR,'covid1.txt')\n",
        "# context = load_file(file)"
      ],
      "execution_count": 0,
      "outputs": []
    },
    {
      "cell_type": "code",
      "metadata": {
        "id": "qXXNLlNYgW5X",
        "colab_type": "code",
        "outputId": "483cc1af-c062-486b-fce7-d2f8a10d5756",
        "colab": {
          "base_uri": "https://localhost:8080/",
          "height": 368
        }
      },
      "source": [
        "!pip install pytorch-pretrained-bert"
      ],
      "execution_count": 17,
      "outputs": [
        {
          "output_type": "stream",
          "text": [
            "Requirement already satisfied: pytorch-pretrained-bert in /usr/local/lib/python3.6/dist-packages (0.6.2)\n",
            "Requirement already satisfied: numpy in /usr/local/lib/python3.6/dist-packages (from pytorch-pretrained-bert) (1.18.4)\n",
            "Requirement already satisfied: regex in /usr/local/lib/python3.6/dist-packages (from pytorch-pretrained-bert) (2019.12.20)\n",
            "Requirement already satisfied: requests in /usr/local/lib/python3.6/dist-packages (from pytorch-pretrained-bert) (2.23.0)\n",
            "Requirement already satisfied: boto3 in /usr/local/lib/python3.6/dist-packages (from pytorch-pretrained-bert) (1.13.4)\n",
            "Requirement already satisfied: torch>=0.4.1 in /usr/local/lib/python3.6/dist-packages (from pytorch-pretrained-bert) (1.5.0+cu101)\n",
            "Requirement already satisfied: tqdm in /usr/local/lib/python3.6/dist-packages (from pytorch-pretrained-bert) (4.41.1)\n",
            "Requirement already satisfied: urllib3!=1.25.0,!=1.25.1,<1.26,>=1.21.1 in /usr/local/lib/python3.6/dist-packages (from requests->pytorch-pretrained-bert) (1.24.3)\n",
            "Requirement already satisfied: idna<3,>=2.5 in /usr/local/lib/python3.6/dist-packages (from requests->pytorch-pretrained-bert) (2.9)\n",
            "Requirement already satisfied: certifi>=2017.4.17 in /usr/local/lib/python3.6/dist-packages (from requests->pytorch-pretrained-bert) (2020.4.5.1)\n",
            "Requirement already satisfied: chardet<4,>=3.0.2 in /usr/local/lib/python3.6/dist-packages (from requests->pytorch-pretrained-bert) (3.0.4)\n",
            "Requirement already satisfied: jmespath<1.0.0,>=0.7.1 in /usr/local/lib/python3.6/dist-packages (from boto3->pytorch-pretrained-bert) (0.9.5)\n",
            "Requirement already satisfied: s3transfer<0.4.0,>=0.3.0 in /usr/local/lib/python3.6/dist-packages (from boto3->pytorch-pretrained-bert) (0.3.3)\n",
            "Requirement already satisfied: botocore<1.17.0,>=1.16.4 in /usr/local/lib/python3.6/dist-packages (from boto3->pytorch-pretrained-bert) (1.16.4)\n",
            "Requirement already satisfied: future in /usr/local/lib/python3.6/dist-packages (from torch>=0.4.1->pytorch-pretrained-bert) (0.16.0)\n",
            "Requirement already satisfied: python-dateutil<3.0.0,>=2.1 in /usr/local/lib/python3.6/dist-packages (from botocore<1.17.0,>=1.16.4->boto3->pytorch-pretrained-bert) (2.8.1)\n",
            "Requirement already satisfied: docutils<0.16,>=0.10 in /usr/local/lib/python3.6/dist-packages (from botocore<1.17.0,>=1.16.4->boto3->pytorch-pretrained-bert) (0.15.2)\n",
            "Requirement already satisfied: six>=1.5 in /usr/local/lib/python3.6/dist-packages (from python-dateutil<3.0.0,>=2.1->botocore<1.17.0,>=1.16.4->boto3->pytorch-pretrained-bert) (1.12.0)\n"
          ],
          "name": "stdout"
        }
      ]
    },
    {
      "cell_type": "code",
      "metadata": {
        "id": "goS2MWIm62Tb",
        "colab_type": "code",
        "colab": {}
      },
      "source": [
        "from pytorch_pretrained_bert import BasicTokenizer"
      ],
      "execution_count": 0,
      "outputs": []
    },
    {
      "cell_type": "code",
      "metadata": {
        "id": "9Qr5iHVTRYs6",
        "colab_type": "code",
        "colab": {}
      },
      "source": [
        "from transformers import *\n",
        "tokenizer = AutoTokenizer.from_pretrained(\"bert-large-cased-whole-word-masking-finetuned-squad\", do_lower_case=True)\n",
        "from tqdm import tqdm\n",
        "from pytorch_pretrained_bert.modeling import BertForQuestionAnswering, BertConfig\n",
        "from transformers.data.metrics.squad_metrics import _get_best_indexes"
      ],
      "execution_count": 0,
      "outputs": []
    },
    {
      "cell_type": "code",
      "metadata": {
        "id": "wIXIIFoHqhnO",
        "colab_type": "code",
        "colab": {}
      },
      "source": [
        "def extract_answers(qstring, context, n_answers, max_answer_len,model,config,tokenizer):\n",
        "    answers = []\n",
        "    context += ' CANNOTANSWER'\n",
        "    return run_qa(qstring, context, n_answers, max_answer_len,model,config,tokenizer)"
      ],
      "execution_count": 0,
      "outputs": []
    },
    {
      "cell_type": "code",
      "metadata": {
        "id": "TOHCYYLrYwds",
        "colab_type": "code",
        "colab": {}
      },
      "source": [
        "# device = torch.device(\"cuda\" if torch.cuda.is_available() else \"cpu\")\n",
        "# model_path ='/content/bert-large-uncased-whole-word-masking-finetuned-squad-pytorch_model.bin'\n",
        "# config_file = '/content/bert-large-uncased-whole-word-masking-finetuned-squad-config.json'\n",
        "# config = BertConfig(config_file)\n",
        "# model = BertForQuestionAnswering(config)\n",
        "# model.load_state_dict(torch.load(model_path,map_location='cpu'))\n",
        "# model.to(device)"
      ],
      "execution_count": 0,
      "outputs": []
    },
    {
      "cell_type": "code",
      "metadata": {
        "id": "sB0UWgTARY4L",
        "colab_type": "code",
        "colab": {}
      },
      "source": [
        "# Input: Question, paragraph, maximum number of answers to extract, maximum length of the answer \n",
        "def run_qa(question, context, nbest, max_answer_len,model,config,tokenizer):\n",
        "    #Simple sliding window approach for max context cases\n",
        "    tokenizer_dict = tokenizer.encode_plus(text=question, text_pair=context, max_length=384, stride=128,\n",
        "                                           return_overflowing_tokens=True, truncation_strategy='only_second',return_token_type_ids=True)\n",
        "    input_ids = [tokenizer_dict['input_ids']]\n",
        "    token_type_ids = [tokenizer_dict['token_type_ids']]\n",
        "    # attention_mask = [tokenizer_dict['attention_mask']]\n",
        "    # print(tokenizer_dict)\n",
        "    while 'overflowing_tokens' in tokenizer_dict.keys():\n",
        "        tokenizer_dict = tokenizer.encode_plus(text=tokenizer.encode(question, add_special_tokens=False), text_pair=tokenizer_dict['overflowing_tokens'], \n",
        "                                               max_length=384, stride=128, return_overflowing_tokens=True, truncation_strategy='only_second', \n",
        "                                               is_pretokenized=True, pad_to_max_length=True)\n",
        "        input_ids.append(tokenizer_dict['input_ids'])\n",
        "        token_type_ids.append(tokenizer_dict['token_type_ids'])    \n",
        "        # attention_mask.append(tokenizer_dict['attention_mask'])\n",
        "\n",
        "    all_input_ids = torch.tensor([f for f in input_ids], dtype=torch.long)\n",
        "    all_token_type_ids = torch.tensor([f for f in token_type_ids], dtype=torch.long)\n",
        "    # all_attention_mask = torch.tensor([f for f in attention_mask], dtype=torch.long)\n",
        "\n",
        "    # print(all_input_ids.shape)\n",
        "    \n",
        "    device = torch.device(\"cuda\" if torch.cuda.is_available() else \"cpu\")\n",
        "    model_path = model #'/content/bert-large-uncased-whole-word-masking-finetuned-squad-pytorch_model.bin'\n",
        "    config_file = config #'/content/bert-large-uncased-whole-word-masking-finetuned-squad-config.json'\n",
        "    config = BertConfig(config_file)\n",
        "    model = BertForQuestionAnswering(config)\n",
        "    model.load_state_dict(torch.load(model_path,map_location='cpu'))\n",
        "    model.to(device)\n",
        "\n",
        "    pred_data = TensorDataset(all_input_ids, all_token_type_ids) #,all_attention_mask)\n",
        "    # Run prediction for full data\n",
        "    pred_sampler = SequentialSampler(pred_data)\n",
        "    pred_dataloader = DataLoader(pred_data, sampler=pred_sampler, batch_size=16)\n",
        "    # print(len(pred_dataloader.dataset))\n",
        "    answers = []\n",
        "    # j = 0\n",
        "    for input_ids, token_type_ids in tqdm(pred_dataloader):\n",
        "        model.eval()\n",
        "        input_ids = input_ids.to(device)\n",
        "        token_type_ids = token_type_ids.to(device)\n",
        "        # attention_mask = attention_mask.to(device)\n",
        "\n",
        "\n",
        "\n",
        "        with torch.no_grad():\n",
        "          outputs = model(input_ids, token_type_ids) #,attention_mask) \n",
        "        \n",
        "    \n",
        "        for i in range(len(input_ids)):\n",
        "          start_logits, end_logits = [output[i].detach().cpu().tolist() for output in outputs] \n",
        "          answers += compute_predictions(start_logits, end_logits, input_ids[i], context.lower(), nbest, max_answer_len,tokenizer)\n",
        "        # j+=1\n",
        "    # print(j)\n",
        "    answers.sort(key = lambda x: len(x['text']), reverse=True)\n",
        "    # answers.sort(key = lambda x: (x['score'] and len(x['text'])>=8) , reverse=True)\n",
        "    return answers[0:nbest]"
      ],
      "execution_count": 0,
      "outputs": []
    },
    {
      "cell_type": "code",
      "metadata": {
        "id": "-Em9T_bnTL0u",
        "colab_type": "code",
        "colab": {}
      },
      "source": [
        "\n",
        "def compute_predictions(start_logits, end_logits, input_ids, context, nbest, max_answer_length,tokenizer):\n",
        "    start_indexes = _get_best_indexes(start_logits, nbest + 30)\n",
        "    end_indexes = _get_best_indexes(end_logits, nbest + 30)\n",
        "    answers = []\n",
        "    for start_index in start_indexes:\n",
        "        for end_index in end_indexes:\n",
        "            #Avoid invalid predictions\n",
        "            answer_len = end_index - start_index + 1\n",
        "            if end_index < start_index:\n",
        "                continue\n",
        "            if max_answer_length < answer_len:\n",
        "                continue\n",
        "            text = tokenizer.decode(input_ids[start_index:start_index + answer_len], clean_up_tokenization_spaces=False)\n",
        "            try:\n",
        "                original_start_index = context.index(text)\n",
        "                original_end_index = original_start_index + len(text)\n",
        "            except:\n",
        "                #If there is any problem when looking for the answer in the text\n",
        "                continue   \n",
        "            #When answer contains text and cannotanswer remove the cannotanswer part \n",
        "            if text != 'cannotanswer':\n",
        "                text.replace(' cannotanswer', '')\n",
        "\n",
        "            answer = {'text': text.capitalize(),\n",
        "                     'score': start_logits[start_index] + end_logits[end_index]\n",
        "                    }\n",
        "            # print(type(start_logits[start_index][0]))\n",
        "            # print(type(end_logits[end_index]))\n",
        "            answers.append(answer) \n",
        "            # break \n",
        "    return answers"
      ],
      "execution_count": 0,
      "outputs": []
    },
    {
      "cell_type": "code",
      "metadata": {
        "id": "fKczPnljTL5D",
        "colab_type": "code",
        "colab": {}
      },
      "source": [
        "max_n_answers = 1\n",
        "# Maximum answer length\n",
        "max_answer_length = 200\n",
        "# question = 'What is the incubation period of the corona virus disease?'\n",
        "# Iterate over all the questions in a task and call the functions above\n",
        "# df_qa_results = []\n",
        "context = 'The incubation period means the time between catching the virus and beginning to have symptoms of the disease. Most estimates of the incubation period for COVID-19 range from 1-14 days, most commonly around five days. These estimates will be updated as more data become available. People of all ages can be infected by the new corona virus (2019-nCoV). Older people, and people with pre-existing medical conditions (such as asthma, diabetes, heart disease) appear to be more vulnerable to becoming severely ill with the virus.WHO advises people of all ages to take steps to protect themselves from the virus, for example by following good hand hygiene and good respiratory hygiene. No. The virus that causes COVID-19 and the one that caused the outbreak of Severe Acute Respiratory Syndrome (SARS) in 2003 are related to each other genetically, but the diseases they cause are quite different. corona viruses are a large family of viruses that are known to cause illness ranging from the common cold to more severe diseases such as Middle East Respiratory Syndrome (MERS) and Severe Acute Respiratory Syndrome (SARS). Detailed investigations found that SARS-CoV was transmitted from civet cats to humans in China in 2002 and MERS-CoV from dromedary camels to humans in Saudi Arabia in 2012. Several known corona viruses are circulating in animals that have not yet infected humans. As surveillance improves around the world, more corona viruses are likely to be identified. It depends on the virus, but common signs include respiratory symptoms, fever, cough, shortness of breath, and breathing difficulties. In more severe cases, infection can cause pneumonia, severe acute respiratory syndrome, kidney failure and even death. Yes, some corona viruses can be transmitted from person to person, usually after close contact with an infected patient, for example, in a household workplace, or health care centre. When a disease is new, there is no vaccine until one is developed. It can take a number of years for a new vaccine to be developed There is no specific treatment for disease caused by a novel corona virus. However, many of the symptoms can be treated and therefore treatment based on the patients clinical condition. Moreover, supportive care for infected persons can be highly effective. '\n",
        "# print(question)\n",
        "# print(extract_answers(question, context, max_n_answers, max_answer_length,'/content/bert-large-uncased-whole-word-masking-finetuned-squad-pytorch_model.bin','/content/bert-large-uncased-whole-word-masking-finetuned-squad-config.json',tokenizer))\n"
      ],
      "execution_count": 0,
      "outputs": []
    },
    {
      "cell_type": "code",
      "metadata": {
        "id": "yDYGGoX4pDe4",
        "colab_type": "code",
        "colab": {}
      },
      "source": [
        "model = '/content/bert-large-uncased-whole-word-masking-finetuned-squad-pytorch_model.bin'\n",
        "config = '/content/bert-large-uncased-whole-word-masking-finetuned-squad-config.json'"
      ],
      "execution_count": 0,
      "outputs": []
    },
    {
      "cell_type": "code",
      "metadata": {
        "id": "rptQcPoP0Wi2",
        "colab_type": "code",
        "colab": {
          "base_uri": "https://localhost:8080/",
          "height": 368
        },
        "outputId": "26f27e9e-17d3-4caa-d4ef-019cf1b967c5"
      },
      "source": [
        "for i,question in enumerate(df['Questions'][:6]):\n",
        "  print('Q'+str(i+1)+' : '+question)\n",
        "  print('Answer: '+extract_answers(question, context, max_n_answers, max_answer_length,model,config,tokenizer)[0]['text'])"
      ],
      "execution_count": 26,
      "outputs": [
        {
          "output_type": "stream",
          "text": [
            "Q1 : What is the incubation period of the corona virus disease?\n"
          ],
          "name": "stdout"
        },
        {
          "output_type": "stream",
          "text": [
            "100%|██████████| 1/1 [00:01<00:00,  1.51s/it]\n"
          ],
          "name": "stderr"
        },
        {
          "output_type": "stream",
          "text": [
            "Answer: Means the time between catching the virus and beginning to have symptoms of\n",
            "Q2 : Who is most at risk for the corona virus disease?\n"
          ],
          "name": "stdout"
        },
        {
          "output_type": "stream",
          "text": [
            "100%|██████████| 1/1 [00:01<00:00,  1.25s/it]\n"
          ],
          "name": "stderr"
        },
        {
          "output_type": "stream",
          "text": [
            "Answer: . most estimates of the incubation period for covid\n",
            "Q3 : Is the corona virus disease the same as SARS?\n"
          ],
          "name": "stdout"
        },
        {
          "output_type": "stream",
          "text": [
            "100%|██████████| 1/1 [00:01<00:00,  1.84s/it]\n"
          ],
          "name": "stderr"
        },
        {
          "output_type": "stream",
          "text": [
            "Answer: A large family of viruses that are known to cause illness ranging from the common cold to more severe diseases such as middle east respiratory syndrome (\n",
            "Q4 : What is a corona virus?\n"
          ],
          "name": "stdout"
        },
        {
          "output_type": "stream",
          "text": [
            "100%|██████████| 1/1 [00:01<00:00,  1.27s/it]\n"
          ],
          "name": "stderr"
        },
        {
          "output_type": "stream",
          "text": [
            "Answer: A large family of viruses that are known to cause illness ranging\n",
            "Q5 : Can humans become infected with a novel corona virus of animal source?\n"
          ],
          "name": "stdout"
        },
        {
          "output_type": "stream",
          "text": [
            "100%|██████████| 1/1 [00:01<00:00,  1.49s/it]\n"
          ],
          "name": "stderr"
        },
        {
          "output_type": "stream",
          "text": [
            "Answer: , many of the symptoms can be treated and therefore treatment based on the patients clinical\n",
            "Q6 : What are the symptoms of someone infected with a corona virus?\n"
          ],
          "name": "stdout"
        },
        {
          "output_type": "stream",
          "text": [
            "100%|██████████| 1/1 [00:01<00:00,  1.54s/it]"
          ],
          "name": "stderr"
        },
        {
          "output_type": "stream",
          "text": [
            "Answer: , many of the symptoms can be treated and therefore treatment based on the patients clinical\n"
          ],
          "name": "stdout"
        },
        {
          "output_type": "stream",
          "text": [
            "\n"
          ],
          "name": "stderr"
        }
      ]
    },
    {
      "cell_type": "code",
      "metadata": {
        "id": "Q86cCgxuAfVI",
        "colab_type": "code",
        "colab": {}
      },
      "source": [
        ""
      ],
      "execution_count": 0,
      "outputs": []
    }
  ]
}